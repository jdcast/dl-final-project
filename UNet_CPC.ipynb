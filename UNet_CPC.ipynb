{
  "cells": [
    {
      "cell_type": "markdown",
      "metadata": {
        "id": "view-in-github",
        "colab_type": "text"
      },
      "source": [
        "<a href=\"https://colab.research.google.com/github/jdcast/dl-final-project/blob/main/UNet_CPC.ipynb\" target=\"_parent\"><img src=\"https://colab.research.google.com/assets/colab-badge.svg\" alt=\"Open In Colab\"/></a>"
      ]
    },
    {
      "cell_type": "markdown",
      "metadata": {
        "id": "HYTGfTWiEIHf"
      },
      "source": [
        "## UNet + CPC Encoders\n",
        "- modifieds UNet by combining encoders from the CPC image sequences model and CPC kinematics model in z-space (encoder output) at bottleneck of UNet\n",
        "- allows for inference of modified UNet\n",
        "- allows for finetuning of modified UNet\n",
        "- CPC images sequences model reference: https://colab.research.google.com/drive/1XeGnR55SgTahjv4aVRiIgKvlShN_uA99#scrollTo=F4-53HZ7mgOx&uniqifier=1\n",
        "- CPC kinematics model reference: https://colab.research.google.com/drive/1b3PU0v3nPans-MyjKXCcylz0fWFZQilT?usp=sharing\n",
        "- UNet model reference: https://colab.research.google.com/drive/1FtT3_qF5jcqHDazesrxkdaOtd2mvimdl#scrollTo=IHlVYMbH0ZGk"
      ]
    },
    {
      "cell_type": "markdown",
      "metadata": {
        "id": "Zpvkp_VFVdkd"
      },
      "source": [
        "## Imports"
      ]
    },
    {
      "cell_type": "code",
      "execution_count": 1,
      "metadata": {
        "colab": {
          "base_uri": "https://localhost:8080/"
        },
        "id": "CPbuP7--K8XR",
        "outputId": "0e7c9acb-a9a1-4f6e-a10f-19b9b18c11e2"
      },
      "outputs": [
        {
          "output_type": "stream",
          "name": "stdout",
          "text": [
            "GPU Available: True\n"
          ]
        }
      ],
      "source": [
        "import os\n",
        "import pdb\n",
        "import time\n",
        "import random\n",
        "\n",
        "%matplotlib inline\n",
        "import torch as T\n",
        "import torch.utils.data\n",
        "import torch.nn as nn\n",
        "import torch.optim as optim\n",
        "import torch.nn.functional as F\n",
        "\n",
        "import numpy as np\n",
        "import matplotlib.pyplot as plt\n",
        "\n",
        "from PIL import Image\n",
        "from random import randrange\n",
        "from random import choice\n",
        "from random import uniform\n",
        "from torchsummary import summary\n",
        "from torchvision.models.inception import inception_v3\n",
        "from torchvision import datasets, transforms\n",
        "from torch.utils.data import Dataset, DataLoader\n",
        "import torch.nn.functional as functional\n",
        "import torchvision.transforms.functional as TF\n",
        "from scipy.stats import entropy\n",
        "from scipy.stats import iqr\n",
        "from tqdm import tqdm\n",
        "import copy\n",
        "\n",
        "from skimage import io\n",
        "\n",
        "import itertools\n",
        "# For loading .mat file\n",
        "import scipy.io\n",
        "\n",
        "torch.manual_seed(0); #you may want to make use of this in various cells for reproducability\n",
        "gpu_boole = torch.cuda.is_available()\n",
        "print(\"GPU Available: {}\".format(gpu_boole))"
      ]
    },
    {
      "cell_type": "markdown",
      "metadata": {
        "id": "lf47ub5wVsL1"
      },
      "source": [
        "## Mount Google Drive"
      ]
    },
    {
      "cell_type": "code",
      "execution_count": 2,
      "metadata": {
        "colab": {
          "base_uri": "https://localhost:8080/"
        },
        "id": "u_zTf9YjLD4M",
        "outputId": "30bbc63a-12ca-491f-ce14-4bd4c4f25869"
      },
      "outputs": [
        {
          "output_type": "stream",
          "name": "stdout",
          "text": [
            "Mounted at /content/gdrive\n"
          ]
        }
      ],
      "source": [
        "try:\n",
        "    from google.colab import drive\n",
        "    drive.mount('/content/gdrive')\n",
        "except:\n",
        "    print(\"Mounting Failed.\")"
      ]
    },
    {
      "cell_type": "markdown",
      "metadata": {
        "id": "Pq1Jue4hudg4"
      },
      "source": [
        "# Dataset"
      ]
    },
    {
      "cell_type": "markdown",
      "metadata": {
        "id": "TF2CiC1IV5gM"
      },
      "source": [
        "## Data Directory"
      ]
    },
    {
      "cell_type": "code",
      "execution_count": 3,
      "metadata": {
        "id": "nzr-nL1CLAj-"
      },
      "outputs": [],
      "source": [
        "# Image.open('/content/gdrive/My Drive/Colab Notebooks/CPC/lena.jpeg')"
      ]
    },
    {
      "cell_type": "code",
      "execution_count": 4,
      "metadata": {
        "id": "oVTaS-9hV7UC"
      },
      "outputs": [],
      "source": [
        "#address of data in google drive \n",
        "data_dir = '/content/gdrive/MyDrive/JHU/Courses/Deep Learning/final_project/Synthetic_MICCAI2020_dataset'"
      ]
    },
    {
      "cell_type": "markdown",
      "metadata": {
        "id": "hXAaUzjUWED3"
      },
      "source": [
        "## Display Sample of Data"
      ]
    },
    {
      "cell_type": "code",
      "execution_count": 5,
      "metadata": {
        "colab": {
          "base_uri": "https://localhost:8080/",
          "height": 0
        },
        "id": "LRLT4lZqLQOe",
        "outputId": "cb6369e8-2211-4c66-c825-d1f8ebf28a8f"
      },
      "outputs": [
        {
          "output_type": "stream",
          "name": "stdout",
          "text": [
            "(538, 701, 3)\n"
          ]
        },
        {
          "output_type": "display_data",
          "data": {
            "text/plain": [
              "<Figure size 432x288 with 1 Axes>"
            ],
            "image/png": "[encoded data removed]"
          },
          "metadata": {
            "needs_background": "light"
          }
        }
      ],
      "source": [
        "test_img_path = os.path.join(data_dir, \"Video_01/images/000.png\")\n",
        "test_img = io.imread(test_img_path)\n",
        "plt.imshow(test_img)\n",
        "print(test_img.shape) #original img dimension"
      ]
    },
    {
      "cell_type": "code",
      "execution_count": 6,
      "metadata": {
        "colab": {
          "base_uri": "https://localhost:8080/"
        },
        "id": "heVeSz3epXJD",
        "outputId": "35d9c396-9886-4759-bb52-19444a7227d8"
      },
      "outputs": [
        {
          "output_type": "stream",
          "name": "stdout",
          "text": [
            "dict_keys(['__header__', '__version__', '__globals__', 'jaw_values1', 'jaw_values3', 'joint_values1', 'joint_values3', 'ecm_values'])\n"
          ]
        },
        {
          "output_type": "execute_result",
          "data": {
            "text/plain": [
              "{'__globals__': [],\n",
              " '__header__': b'MATLAB 5.0 MAT-file, Platform: GLNXA64, Created on: Sat Feb 29 11:59:49 2020',\n",
              " '__version__': '1.0',\n",
              " 'ecm_values': array([[-0.08814785, -0.08814785, -0.08814785, ..., -0.08814785,\n",
              "         -0.08814785, -0.08814785],\n",
              "        [-0.46083237, -0.46083237, -0.46083237, ..., -0.46083237,\n",
              "         -0.46083237, -0.46083237],\n",
              "        [ 0.17415773,  0.17415773,  0.17415773, ...,  0.17415773,\n",
              "          0.17415773,  0.17415773],\n",
              "        [ 0.60085643,  0.60085643,  0.60085643, ...,  0.60085643,\n",
              "          0.60085643,  0.60085643]]),\n",
              " 'jaw_values1': array([[-0.16308299, -0.1631538 , -0.16308299, ...,  0.0143751 ,\n",
              "          0.01472916,  0.01479998]]),\n",
              " 'jaw_values3': array([[-0.16824439, -0.16824439, -0.17102124, ...,  0.06876785,\n",
              "          0.07105467,  0.07350483]]),\n",
              " 'joint_values1': array([[ 0.48887216,  0.4939151 ,  0.4958149 , ...,  0.65067114,\n",
              "          0.65058619,  0.65053213],\n",
              "        [-0.26129094, -0.25934482, -0.25895868, ..., -0.18256541,\n",
              "         -0.18256541, -0.18256541],\n",
              "        [ 0.17790414,  0.17715488,  0.17696303, ...,  0.17448193,\n",
              "          0.17447934,  0.17447675],\n",
              "        [-1.85983082, -1.84578249, -1.84158896, ..., -0.58730396,\n",
              "         -0.58730396, -0.58730396],\n",
              "        [ 0.31254962,  0.31026922,  0.31080578, ...,  0.60605115,\n",
              "          0.60605115,  0.60605115],\n",
              "        [-0.02993588, -0.02871129, -0.0290521 , ...,  0.0601302 ,\n",
              "          0.06026796,  0.06019908]]),\n",
              " 'joint_values3': array([[-1.40329007, -1.4033364 , -1.4033364 , ..., -1.42844301,\n",
              "         -1.42844301, -1.42842756],\n",
              "        [-0.14589015, -0.14885568, -0.15023032, ..., -0.26781665,\n",
              "         -0.26770854, -0.26760814],\n",
              "        [ 0.13075418,  0.129734  ,  0.12925437, ...,  0.12726327,\n",
              "          0.12726327,  0.12726327],\n",
              "        [ 3.67146122,  3.67083215,  3.66957401, ...,  3.17093133,\n",
              "          3.1755445 ,  3.17596388],\n",
              "        [ 0.45581936,  0.46265119,  0.46811665, ...,  0.07091434,\n",
              "          0.0733738 ,  0.07474017],\n",
              "        [-0.60847679, -0.61282251, -0.61417543, ..., -0.88670175,\n",
              "         -0.8878088 , -0.88737109]])}"
            ]
          },
          "metadata": {},
          "execution_count": 6
        }
      ],
      "source": [
        "mat = scipy.io.loadmat(os.path.join(data_dir, 'Video_01/kinematic.mat'))\n",
        "print(mat.keys())\n",
        "mat"
      ]
    },
    {
      "cell_type": "markdown",
      "metadata": {
        "id": "l71-YEteliLH"
      },
      "source": [
        "## Dataloader Architecture\n",
        " - returns sequences of image sequences\n",
        " - return shape: (terms+predict_terms, c, frames, h, w)"
      ]
    },
    {
      "cell_type": "markdown",
      "metadata": {
        "id": "Ljter6HSrTvh"
      },
      "source": [
        "### Video dataloader"
      ]
    },
    {
      "cell_type": "code",
      "execution_count": 7,
      "metadata": {
        "id": "_kN-xXH00mey"
      },
      "outputs": [],
      "source": [
        "class ImageDataset(Dataset):\n",
        "    \"\"\"\n",
        "    Image Dataset\n",
        "    \"\"\"\n",
        "\n",
        "    def __init__(self, data_dir, op, frame = 10, transform=False, occlusion=False):\n",
        "        \"\"\"\n",
        "        Args:\n",
        "            input_dir: input data path to images and masks\n",
        "        \"\"\"\n",
        "        assert frame > 1, 'number of frames should be an integer greater than 1'\n",
        "\n",
        "        self.frame = frame\n",
        "        self.op = op # specify train or test \n",
        "        self.data_dir = data_dir\n",
        "        self.transform = transform\n",
        "        if occlusion:\n",
        "          assert self.frame > 9, 'number of frames should be greater than 9 for occlusion to work'\n",
        "        self.occlusion = occlusion\n",
        "        self.occ_frames = 4 # Number of frames to occlude.\n",
        "        self.occ_box_size = 50\n",
        "        self.mask_num = 2 # Only 2 output class labels.\n",
        "        self.h = 256\n",
        "        self.w = 320\n",
        "        self.mask_value = {0:0, 1:255}\n",
        "        \n",
        "        try:\n",
        "          if self.op == 'train':\n",
        "              self.len = 300 * 8 // frame # Videos 1-8 with 300 frames each.\n",
        "          elif self.op == 'val':\n",
        "              self.len = 300 * 2 // frame # Videos 9-10.\n",
        "          elif self.op == 'test':\n",
        "              self.len = 300 * 4 // frame # Videos 11-14.\n",
        "        except ValueError:\n",
        "          print ('op should be train or test.')\n",
        "    \n",
        "    \n",
        "    def __len__(self):\n",
        "        \"\"\"\n",
        "          for training: using videos from 01-08 each with 300 pics (14 * 300 img in total)\n",
        "          for val: using videos from 09-10 each with 300 pics (6 * 300 img in total)\n",
        "          for testing: using videos from 11-15 each with 300 pics (6 * 300 img in total)\n",
        "        \"\"\"\n",
        "        return self.len\n",
        "\n",
        "    def __getitem__(self, idx):\n",
        "        \"\"\"\n",
        "          returning corresponding img and mask from dataset folder \n",
        "        \"\"\"\n",
        "\n",
        "        video_id = (idx * self.frame) // 300 + 1 #returning the number part of video's name str (i.e. \"Video_01\"'s '01')\n",
        "\n",
        "        if self.op == 'train':\n",
        "            video_name = str(video_id).zfill(2) \n",
        "        elif self.op == 'val':\n",
        "            video_id = (idx * self.frame) // 300 + 9\n",
        "            video_name = str(video_id).zfill(2)\n",
        "        else:\n",
        "            video_id = (idx * self.frame) // 300 + 11\n",
        "            video_name = str(video_id).zfill(2)\n",
        "        \n",
        "        img_dir = os.path.join(self.data_dir, \"Video_\" + video_name, \"images\")\n",
        "        mask_dir = os.path.join(self.data_dir, \"Video_\" + video_name, \"ground_truth\")\n",
        "\n",
        "        frames = [(idx * self.frame + i) % 300 for i in range(self.frame)]\n",
        "        # start = np.random.randint(100)\n",
        "        # interval = np.random.randint(5, 10)\n",
        "        # print (start, interval)\n",
        "        # frames = [start for _ in range(self.frame)]\n",
        "\n",
        "        img, mask = torch.zeros((3, self.frame, self.h, self.w)), torch.zeros((2, len(frames), 256, 320))\n",
        "\n",
        "        if self.occlusion:\n",
        "          start = -1\n",
        "          if np.random.random() > 0.6:\n",
        "            start = np.random.randint(self.frame - self.occ_frames)\n",
        "\n",
        "        for i in range(self.frame):\n",
        "\n",
        "            img_name = os.path.join(img_dir, str(frames[i]).zfill(3) + \".png\")\n",
        "            mask_name = os.path.join(mask_dir, str(frames[i]).zfill(3) + '.png')\n",
        "            \n",
        "            img_next = Image.open(img_name)\n",
        "            mask_next = Image.open(mask_name)\n",
        "\n",
        "            img_next = TF.resize(img_next, (self.h, self.w), interpolation=TF.InterpolationMode.NEAREST)\n",
        "            mask_next = TF.resize(mask_next, (self.h, self.w), interpolation=TF.InterpolationMode.NEAREST)\n",
        "            \n",
        "            # Apply data augmentations, if any.\n",
        "            if self.transform:\n",
        "                img_next, mask_next = self.augment(img_next, mask_next)\n",
        "\n",
        "            # occlusion\n",
        "            if self.occlusion and i >= start and i < start + self.occ_frames:\n",
        "                img_next, mask_next = self.occlude(img_next, mask_next)\n",
        "            \n",
        "            mask_next = np.array(mask_next)\n",
        "            \n",
        "            # Convert grey-scale label to one-hot encoding\n",
        "            new_mask = np.zeros((self.h, self.w, self.mask_num))\n",
        "            for idx in range(self.mask_num):\n",
        "                new_mask[:, :, idx] = mask_next[:, :, 0] == self.mask_value[idx]\n",
        "\n",
        "            # Transform to tensor\n",
        "            img_next = TF.to_tensor(img_next)\n",
        "            mask_next = TF.to_tensor(new_mask)\n",
        "            \n",
        "            img[:, i, :, :] = img_next\n",
        "            mask[:, i, :, :] = mask_next\n",
        "\n",
        "        # Load kinematic info\n",
        "        kin_dir = os.path.join(self.data_dir, \"Video_\" + video_name)\n",
        "        kin_name = kin_dir + \"/kinematic.mat\"\n",
        "        kin_mat = scipy.io.loadmat(kin_name)\n",
        "        ecm_values = torch.Tensor(kin_mat['ecm_values'])\n",
        "        joint_values1 = torch.Tensor(kin_mat['joint_values1'])\n",
        "        jaw_values1 = torch.Tensor(kin_mat['jaw_values1'])\n",
        "        joint_values3 = torch.Tensor(kin_mat['joint_values3'])\n",
        "        jaw_values3 = torch.Tensor(kin_mat['jaw_values1'])\n",
        "\n",
        "        kin_all = torch.cat((ecm_values, joint_values1, jaw_values1, joint_values3, jaw_values3), 0)\n",
        "        # It has 1500 time frames of kinematic for each video, but for the comparison with the original paper,\n",
        "        # which says \"collect every 150 ms to avoid redundance\", i.e. reduce to the same frames/sec as the image data,\n",
        "        # we also reduce the amount of kinematic data by slicing it at the step = 5\n",
        "        kin_sampled = kin_all[:, 1:1500:5]\n",
        "        kin_framed = kin_sampled[:, frames]\n",
        "        kin = kin_framed\n",
        "\n",
        "        return img, mask, kin\n",
        "\n",
        "    def augment(self, img, mask):\n",
        "\n",
        "        \n",
        "        if np.random.random() > 0.5:\n",
        "\n",
        "            # # Random horizontal flipping\n",
        "            # if np.random.random() > 0.5:\n",
        "            #     img = TF.hflip(img)\n",
        "            #     mask = TF.hflip(mask)\n",
        "\n",
        "            # # Random vertical flipping\n",
        "            # if np.random.random() > 0.5:\n",
        "            #     img = TF.vflip(img)\n",
        "            #     mask = TF.vflip(mask)\n",
        "\n",
        "            # Random brightness change\n",
        "            if np.random.random() > 0.5:\n",
        "                img = TF.adjust_brightness(img, np.random.uniform(0.5, 2))\n",
        "\n",
        "            # Random contrast change\n",
        "            if np.random.random() > 0.75:\n",
        "                img = TF.adjust_contrast(img, np.random.uniform(0.5, 2))\n",
        "            \n",
        "            # Random hue change\n",
        "            if np.random.random() > 0.8:\n",
        "                img = TF.adjust_hue(img, np.random.uniform(-0.3, 0.3))\n",
        "\n",
        "            # # Random equalize\n",
        "            # if np.random.random() > 0.9:\n",
        "            #     img = TF.equalize(img)\n",
        "\n",
        "            # Random gaussian blur\n",
        "            if np.random.random() > 0.9:\n",
        "                img = TF.gaussian_blur(img, [3, 3])\n",
        "        \n",
        "        return img, mask\n",
        "\n",
        "    def occlude(self, img, mask):\n",
        "\n",
        "        img = np.array(img)\n",
        "        tool_removed_img = np.where(mask, 0, img)\n",
        "\n",
        "        min_size = min(self.h, self.w)\n",
        "        if self.h == min_size:\n",
        "          coord_h_low, coord_h_high = self.h // 2 - self.h // 3, self.h // 2 + self.h // 3\n",
        "          coord_w_low, coord_w_high = self.w // 2 - self.h // 3, self.w // 2 + self.h // 3\n",
        "          slack = self.h - coord_h_high\n",
        "        else:\n",
        "          coord_h_low, coord_h_high = self.h // 2 - self.w // 3, self.h // 2 + self.w // 3\n",
        "          coord_w_low, coord_w_high = self.w // 2 - self.w // 3, self.w // 2 + self.w // 3\n",
        "          slack = self.w - coord_w_high\n",
        "\n",
        "\n",
        "        center_img = img[coord_h_low:coord_h_high, coord_w_low:coord_w_high, :]\n",
        "        center_tool_removed_img = tool_removed_img[coord_h_low:coord_h_high, coord_w_low:coord_w_high, :]\n",
        "        \n",
        "        new_center = np.zeros(center_img.shape)\n",
        "        \n",
        "        # Flip\n",
        "        flip = np.random.randint(3)\n",
        "        if not flip: # horizontal_flip\n",
        "          flipped_img = np.flip(img, 0)\n",
        "          flipped_tool_removed_img = np.flip(tool_removed_img, 0)\n",
        "        elif flip == 1: # vertical flip\n",
        "          flipped_img = np.flip(img, 1)\n",
        "          flipped_tool_removed_img = np.flip(tool_removed_img, 1)\n",
        "        else: # both\n",
        "          flipped_img = np.flip(img, (0, 1))\n",
        "          flipped_tool_removed_img = np.flip(tool_removed_img, (0, 1))\n",
        "\n",
        "        # Rotated center image to paste from.\n",
        "        rot_center_img = np.rot90(center_img, 1, (0, 1))\n",
        "\n",
        "        # Translate\n",
        "        delta = np.random.randint(slack // 4, slack // 2)\n",
        "        direction = np.random.randint(4)\n",
        "        if not direction: # Towards bottom right\n",
        "          coord_h_lowt, coord_w_lowt, coord_h_hight, coord_w_hight = coord_h_low + delta, coord_w_low + delta, coord_h_high + delta, coord_w_high + delta\n",
        "        elif direction == 1: # Towards top right\n",
        "          coord_h_lowt, coord_w_lowt, coord_h_hight, coord_w_hight = coord_h_low - delta, coord_w_low + delta, coord_h_high - delta, coord_w_high + delta\n",
        "        elif direction == 1: # Towards bottom left\n",
        "          coord_h_lowt, coord_w_lowt, coord_h_hight, coord_w_hight = coord_h_low + delta, coord_w_low - delta, coord_h_high + delta, coord_w_high - delta\n",
        "        else: # Towards top left\n",
        "          coord_h_lowt, coord_w_lowt, coord_h_hight, coord_w_hight = coord_h_low - delta, coord_w_low - delta, coord_h_high - delta, coord_w_high - delta\n",
        "\n",
        "        transformed_center_img = flipped_img[coord_h_lowt:coord_h_hight, coord_w_lowt:coord_w_hight, :]\n",
        "        transformed_center_tool_removed_img = flipped_tool_removed_img[coord_h_lowt:coord_h_hight, coord_w_lowt:coord_w_hight, :]\n",
        "\n",
        "        center_new = np.where(center_tool_removed_img == transformed_center_tool_removed_img, rot_center_img, center_img)\n",
        "        img[coord_h_low:coord_h_high, coord_w_low:coord_w_high, :] = center_new\n",
        "        \n",
        "        return img, mask"
      ]
    },
    {
      "cell_type": "markdown",
      "metadata": {
        "id": "gHvaZJWIrVR5"
      },
      "source": [
        "## Test Dataloaders"
      ]
    },
    {
      "cell_type": "markdown",
      "metadata": {
        "id": "BbvZAYAhp00b"
      },
      "source": [
        "### Video dataloader test"
      ]
    },
    {
      "cell_type": "code",
      "execution_count": 8,
      "metadata": {
        "colab": {
          "base_uri": "https://localhost:8080/",
          "height": 0
        },
        "id": "zPa2tc6irdrI",
        "outputId": "a118b801-2170-4ada-9667-35f3a7fd717a"
      },
      "outputs": [
        {
          "output_type": "stream",
          "name": "stdout",
          "text": [
            "torch.Size([5, 3, 10, 256, 320]) torch.Size([5, 2, 10, 256, 320]) torch.Size([5, 18, 10])\n"
          ]
        },
        {
          "output_type": "display_data",
          "data": {
            "text/plain": [
              "<Figure size 1440x288 with 20 Axes>"
            ],
            "image/png": "[encoded data removed]"
          },
          "metadata": {
            "needs_background": "light"
          }
        }
      ],
      "source": [
        "batch_size = 5\n",
        "\n",
        "train_dataset = ImageDataset(data_dir, op='train', transform=True, occlusion=True)\n",
        "val_dataset = ImageDataset(data_dir, op='val', transform=False, occlusion=False)\n",
        "test_dataset = ImageDataset(data_dir, op='test', transform=False, occlusion=False)\n",
        "\n",
        "train_dataloader = DataLoader(train_dataset,  batch_size=batch_size, shuffle=True, num_workers=4)\n",
        "val_dataloader = DataLoader(val_dataset, batch_size=batch_size, shuffle=False, num_workers=4)\n",
        "test_dataloader = DataLoader(test_dataset, batch_size=batch_size, shuffle=False, num_workers=4)\n",
        "\n",
        "img, mask, kin = next(iter(train_dataloader))\n",
        "print(img.shape, mask.shape, kin.shape)\n",
        "fig = plt.figure(figsize=(20, 4))\n",
        "columns = 10\n",
        "rows = 2\n",
        "\n",
        "for i in range(rows):\n",
        "  for j in range(columns):\n",
        "    if i == 0:\n",
        "      image = torch.permute(img[0, :, j, :, :], (1, 2, 0)).cpu().numpy()\n",
        "      fig.add_subplot(rows, columns, i * columns + j + 1)\n",
        "      plt.imshow(image)\n",
        "    else:\n",
        "      image = torch.argmax(mask[0], dim=0)[j].cpu().numpy()\n",
        "      fig.add_subplot(rows, columns, i * columns + j + 1)\n",
        "      plt.imshow(image)\n",
        "\n",
        "plt.show()"
      ]
    },
    {
      "cell_type": "markdown",
      "metadata": {
        "id": "UyO1GKlakGks"
      },
      "source": [
        "# Dice Score/Loss"
      ]
    },
    {
      "cell_type": "code",
      "execution_count": 9,
      "metadata": {
        "id": "-_IobMtIR8FL"
      },
      "outputs": [],
      "source": [
        "def dice_score_batch(prediction, target, n_classes):\n",
        "    '''\n",
        "      compute the mean dice score for a single batch of frames\n",
        "\n",
        "      Reminders: A false positive is a result that indicates a given condition exists, when it does not\n",
        "               A false negative is a test result that indicates that a condition does not hold, while in fact it does\n",
        "      Args:\n",
        "          prediction (tensor): predictied labels of the batch\n",
        "          target (tensor): ground truth of the batch\n",
        "          n_classes (int): number of classes\n",
        "    \n",
        "      Returns:\n",
        "          m_dice (float): Mean dice score over classes over the batch\n",
        "    '''\n",
        "    b, d, _, _ = target.shape\n",
        "\n",
        "    dice_classes = torch.zeros((b, d, n_classes))\n",
        "    TP = torch.zeros((b, d, n_classes))\n",
        "    FP = torch.zeros((b, d, n_classes))\n",
        "    FN = torch.zeros((b, d, n_classes))\n",
        "    \n",
        "    corrects = prediction == target\n",
        "    incorrects = prediction != target\n",
        "    \n",
        "    for k in range(b):\n",
        "      for j in range(d):\n",
        "        for cl in range(n_classes):\n",
        "            p_cl = (prediction == cl)[k][j]\n",
        "            t_cl = (target == cl)[k][j]\n",
        "            TP[k][j][cl] = torch.count_nonzero(torch.where(p_cl, corrects[k][j], False))\n",
        "            FP[k][j][cl] = torch.count_nonzero(torch.where(p_cl, incorrects[k][j], False))\n",
        "            FN[k][j][cl] = torch.count_nonzero(torch.where(t_cl, incorrects[k][j], False))\n",
        "    \n",
        "    for k in range(b):\n",
        "      for j in range(d):\n",
        "        for cl in range(n_classes):\n",
        "            if FP[k][j][cl] == 0 and FN[k][j][cl] == 0:\n",
        "                dice_classes[k][j][cl] = 1\n",
        "            else:\n",
        "                dice_classes[k][j][cl] = 2 * TP[k][j][cl] / (TP[k][j][cl] + FP[k][j][cl] + TP[k][j][cl] + FN[k][j][cl])\n",
        "    \n",
        "    return dice_classes.mean(dim=-1)\n",
        "\n",
        "\n",
        "\n",
        "def dice_score_dataset(model, dataloader, num_classes=2, use_gpu=True):\n",
        "    \"\"\"\n",
        "    Compute the mean dice score on a set of data.\n",
        "    \n",
        "    Note that multiclass dice score can be defined as the mean over classes of binary\n",
        "    dice score. Dice score is computed per image. Mean dice score over the dataset is the dice\n",
        "    score averaged across all images.\n",
        "    \n",
        "    Reminders: A false positive is a result that indicates a given condition exists, when it does not\n",
        "               A false negative is a test result that indicates that a condition does not hold, while in fact it does\n",
        "     \n",
        "    Args:\n",
        "        model (UNET class): Your trained model\n",
        "        dataloader (DataLoader): Dataset for evaluation\n",
        "        num_classes (int): Number of classes\n",
        "    \n",
        "    Returns:\n",
        "        m_dice (float): Mean dice score over the input dataset\n",
        "    \"\"\"\n",
        "    \n",
        "    ## Number of Batches and Cache over Dataset \n",
        "    n_batches = len(dataloader)\n",
        "    scores = None\n",
        "    \n",
        "    ## Evaluate\n",
        "    model.eval()\n",
        "    for data in dataloader:\n",
        "        ## Format Data\n",
        "        img, target, kin = data\n",
        "        if use_gpu:\n",
        "            img = img.cuda()\n",
        "            target = target.cuda()\n",
        "            kin = kin.cuda()\n",
        "        ## Make Predictions\n",
        "        out = model(img, kin)\n",
        "        n_classes = out.shape[1]\n",
        "        prediction = torch.argmax(out, dim = 1)\n",
        "        target = torch.argmax(target, dim = 1)\n",
        "        b, d, _, _ = prediction.shape\n",
        "        score_batch = iou_score_batch(prediction, target, n_classes)\n",
        "        if i == 0:\n",
        "          scores = score_batch.flatten()\n",
        "        else:\n",
        "          scores = torch.cat((score_batch.flatten(), scores))\n",
        "    ## Average Dice Score Over Images\n",
        "    m_dice = scores\n",
        "    return m_dice\n",
        "\n",
        "def iou_score_batch(prediction, target, n_classes):\n",
        "    '''\n",
        "      compute the mean iou score for a single batch of frames\n",
        "\n",
        "      Reminders: A false positive is a result that indicates a given condition exists, when it does not\n",
        "               A false negative is a test result that indicates that a condition does not hold, while in fact it does\n",
        "      Args:\n",
        "          prediction (tensor): predictied labels of the batch\n",
        "          target (tensor): ground truth of the batch\n",
        "          n_classes (int): number of classes\n",
        "    \n",
        "      Returns:\n",
        "          m_iou (float): Mean iou score over classes over the batch\n",
        "    '''\n",
        "    b, d, _, _ = target.shape\n",
        "\n",
        "    iou_classes = torch.zeros((b, d, n_classes))\n",
        "    TP = torch.zeros((b, d, n_classes))\n",
        "    FP = torch.zeros((b, d, n_classes))\n",
        "    FN = torch.zeros((b, d, n_classes))\n",
        "    \n",
        "    corrects = prediction == target\n",
        "    incorrects = prediction != target\n",
        "    \n",
        "    for k in range(b):\n",
        "      for j in range(d):\n",
        "        for cl in range(n_classes):\n",
        "            p_cl = (prediction == cl)[k][j]\n",
        "            t_cl = (target == cl)[k][j]\n",
        "            TP[k][j][cl] = torch.count_nonzero(torch.where(p_cl, corrects[k][j], False))\n",
        "            FP[k][j][cl] = torch.count_nonzero(torch.where(p_cl, incorrects[k][j], False))\n",
        "            FN[k][j][cl] = torch.count_nonzero(torch.where(t_cl, incorrects[k][j], False))\n",
        "    \n",
        "    for k in range(b):\n",
        "      for j in range(d):\n",
        "        for cl in range(n_classes):\n",
        "            if FP[k][j][cl] == 0 and FN[k][j][cl] == 0:\n",
        "                iou_classes[k][j][cl] = 1\n",
        "            else:\n",
        "                iou_classes[k][j][cl] = TP[k][j][cl] / (TP[k][j][cl] + FP[k][j][cl] + FN[k][j][cl])\n",
        "    \n",
        "    return iou_classes.mean(dim=-1)\n",
        "\n",
        "def iou_score_dataset(model, dataloader, num_classes=2, use_gpu=True):\n",
        "    \"\"\"\n",
        "    Compute the mean iou score on a set of data.\n",
        "    \n",
        "    Note that multiclass iou score can be defined as the mean over classes of binary\n",
        "    iou score. iou score is computed per image. Mean iou score over the dataset is the iou\n",
        "    score averaged across all images.\n",
        "    \n",
        "    Reminders: A false positive is a result that indicates a given condition exists, when it does not\n",
        "               A false negative is a test result that indicates that a condition does not hold, while in fact it does\n",
        "     \n",
        "    Args:\n",
        "        model (UNET class): Your trained model\n",
        "        dataloader (DataLoader): Dataset for evaluation\n",
        "        num_classes (int): Number of classes\n",
        "    \n",
        "    Returns:\n",
        "        m_iou (float): Mean iou score over the input dataset\n",
        "    \"\"\"\n",
        "    \n",
        "    ## Number of Batches and Cache over Dataset \n",
        "    n_batches = len(dataloader)\n",
        "    scores = None\n",
        "    \n",
        "    ## Evaluate\n",
        "    model.eval()\n",
        "    for i, data in enumerate(dataloader):\n",
        "        img, target, kin = data\n",
        "        if use_gpu:\n",
        "            img = img.cuda()\n",
        "            target = target.cuda()\n",
        "            kin = kin.cuda()\n",
        "        ## Make Predictions\n",
        "        out = model(img, kin)\n",
        "        n_classes = out.shape[1]\n",
        "        prediction = torch.argmax(out, dim = 1)\n",
        "        target = torch.argmax(target, dim = 1)\n",
        "        b, d, _, _ = prediction.shape\n",
        "        score_batch = iou_score_batch(prediction, target, n_classes)\n",
        "        if i == 0:\n",
        "          scores = score_batch.flatten()\n",
        "        else:\n",
        "          scores = torch.cat((score_batch.flatten(), scores))\n",
        "    ## Average iou Score Over Images\n",
        "    m_iou = scores\n",
        "    return m_iou\n",
        "\n",
        "\n",
        "class DICELoss(nn.Module):\n",
        "    def __init__(self):\n",
        "        super(DICELoss, self).__init__()\n",
        "        self.eps = 1e-8\n",
        "        \n",
        "    def forward(self, pred, target):\n",
        "        # Expecting in the form [batch_size, channel, d, h, w]\n",
        "        \n",
        "        pred = functional.softmax(pred, dim=1)\n",
        "        \n",
        "        num = torch.sum(pred * target, dim=(1, 3, 4))\n",
        "        den = torch.sum(pred**2 + target**2, dim=(1, 3, 4)) / 2\n",
        "        \n",
        "        return 1 - ((num + self.eps) / (den + self.eps)).mean()"
      ]
    },
    {
      "cell_type": "markdown",
      "metadata": {
        "id": "9NPSbtJ_oFEB"
      },
      "source": [
        "# Models"
      ]
    },
    {
      "cell_type": "markdown",
      "metadata": {
        "id": "AXjRiy_utjIn"
      },
      "source": [
        "## Encoder for CPC Image Sequences"
      ]
    },
    {
      "cell_type": "markdown",
      "metadata": {
        "id": "lsWQZwUqu7ND"
      },
      "source": [
        "### Define Architecture\n",
        "- use encoder from 3D Vanilla UNet: https://colab.research.google.com/drive/1FtT3_qF5jcqHDazesrxkdaOtd2mvimdl#scrollTo=_kN-xXH00mey"
      ]
    },
    {
      "cell_type": "code",
      "execution_count": 10,
      "metadata": {
        "id": "R0Ws05nktqJE"
      },
      "outputs": [],
      "source": [
        "# Encoder\n",
        "\n",
        "## Functions for adding the convolution layer\n",
        "def add_conv_stage(dim_in,\n",
        "                   dim_out,\n",
        "                   kernel_size=3,\n",
        "                   stride=1,\n",
        "                   padding='same',\n",
        "                   bias=True,\n",
        "                   useBN=True):\n",
        "    # Use batch normalization\n",
        "    if useBN:\n",
        "        return nn.Sequential(\n",
        "          nn.Conv3d(dim_in, dim_out, kernel_size=kernel_size, stride=stride, padding=padding, bias=bias),\n",
        "          nn.BatchNorm3d(dim_out),\n",
        "          nn.LeakyReLU(0.1),\n",
        "          nn.Conv3d(dim_out, dim_out, kernel_size=kernel_size, stride=stride, padding=padding, bias=bias),\n",
        "          nn.BatchNorm3d(dim_out),\n",
        "          nn.LeakyReLU(0.1)\n",
        "        )\n",
        "    # No batch normalization\n",
        "    else:\n",
        "        return nn.Sequential(\n",
        "          nn.Conv3d(dim_in, dim_out, kernel_size=kernel_size, stride=stride, padding=padding, bias=bias),\n",
        "          nn.ReLU(),\n",
        "          nn.Conv3d(dim_out, dim_out, kernel_size=kernel_size, stride=stride, padding=padding, bias=bias),\n",
        "          nn.ReLU()\n",
        "        )\n",
        "\n",
        "def last_layer(dim_in,\n",
        "               dim_out,\n",
        "               kernel_size=3,\n",
        "               stride=1,\n",
        "               padding='same',\n",
        "               bias=True,\n",
        "               useBN=True):\n",
        "    # Use batch normalization\n",
        "    if useBN:\n",
        "        return nn.Sequential(\n",
        "          nn.Conv3d(dim_in, dim_out, kernel_size=kernel_size, stride=stride, padding=padding, bias=bias),\n",
        "          nn.BatchNorm3d(dim_out),\n",
        "          nn.LeakyReLU(0.1),\n",
        "          nn.Conv3d(dim_out, dim_out, kernel_size=kernel_size, stride=stride, padding=padding, bias=bias)\n",
        "        )\n",
        "    # No batch normalization\n",
        "    else:\n",
        "        return nn.Sequential(\n",
        "          nn.Conv3d(dim_in, dim_out, kernel_size=kernel_size, stride=stride, padding=padding, bias=bias),\n",
        "          nn.ReLU(),\n",
        "          nn.Conv3d(dim_out, dim_out, kernel_size=kernel_size, stride=stride, padding=padding, bias=bias),\n",
        "        )\n",
        "\n",
        "class cpc_images_encoder(nn.Module):\n",
        "  def __init__(self, useBN=True):\n",
        "    super(cpc_images_encoder, self).__init__()\n",
        "\n",
        "    # Downgrade stages\n",
        "    if useBN:\n",
        "      self.conv1 = nn.Sequential(\n",
        "        nn.Conv3d(3, 32, kernel_size=3, stride=(1, 2, 2), padding=1, bias=True),\n",
        "        nn.BatchNorm3d(32),\n",
        "        nn.LeakyReLU(0.1))\n",
        "    else:\n",
        "      self.conv1 = nn.Sequential(\n",
        "        nn.Conv3d(3, 32, kernel_size=3, stride=(1, 2, 2), padding=1, bias=True),\n",
        "        nn.LeakyReLU(0.1))\n",
        "    \n",
        "    self.conv2 = add_conv_stage(32, 64, useBN=useBN)\n",
        "    self.conv3 = add_conv_stage(64, 128, useBN=useBN)\n",
        "    self.conv4 = add_conv_stage(128, 256, useBN=useBN)\n",
        "    self.last_layer = last_layer(256, 512, useBN=useBN)\n",
        "    \n",
        "    # Maxpool\n",
        "    self.max_pool122 = nn.MaxPool3d(2, stride=(1, 2, 2))\n",
        "    self.max_pool2 = nn.MaxPool3d(2)\n",
        "\n",
        "    # weight initialization\n",
        "    for m in self.modules():\n",
        "      if isinstance(m, nn.Conv2d) or isinstance(m, nn.ConvTranspose2d):\n",
        "        if m.bias is not None:\n",
        "          m.bias.data.zero_()\n",
        "        torch.nn.init.kaiming_uniform_(m.weight.data)\n",
        "        \n",
        "  def forward(self, inputs):\n",
        "    \"\"\"\n",
        "    Forward pass\n",
        "    \"\"\"\n",
        "    conv1_out = self.conv1(inputs)\n",
        "    conv2_out = self.conv2(self.max_pool2(conv1_out))\n",
        "    conv3_out = self.conv3(self.max_pool122(conv2_out))\n",
        "    conv4_out = self.conv4(self.max_pool2(conv3_out))\n",
        "    out = self.last_layer(self.max_pool2(conv4_out))\n",
        "\n",
        "    return out"
      ]
    },
    {
      "cell_type": "markdown",
      "metadata": {
        "id": "V8ugkblDoHzM"
      },
      "source": [
        "### Load Pretrained Model"
      ]
    },
    {
      "cell_type": "code",
      "execution_count": 11,
      "metadata": {
        "id": "MbVVAharoLWF",
        "colab": {
          "base_uri": "https://localhost:8080/"
        },
        "outputId": "b027e782-c0cd-4c93-cf09-870e8f7a18a5"
      },
      "outputs": [
        {
          "output_type": "execute_result",
          "data": {
            "text/plain": [
              "cpc_images_encoder(\n",
              "  (conv1): Sequential(\n",
              "    (0): Conv3d(3, 32, kernel_size=(3, 3, 3), stride=(1, 2, 2), padding=(1, 1, 1))\n",
              "    (1): BatchNorm3d(32, eps=1e-05, momentum=0.1, affine=True, track_running_stats=True)\n",
              "    (2): LeakyReLU(negative_slope=0.1)\n",
              "  )\n",
              "  (conv2): Sequential(\n",
              "    (0): Conv3d(32, 64, kernel_size=(3, 3, 3), stride=(1, 1, 1), padding=same)\n",
              "    (1): BatchNorm3d(64, eps=1e-05, momentum=0.1, affine=True, track_running_stats=True)\n",
              "    (2): LeakyReLU(negative_slope=0.1)\n",
              "    (3): Conv3d(64, 64, kernel_size=(3, 3, 3), stride=(1, 1, 1), padding=same)\n",
              "    (4): BatchNorm3d(64, eps=1e-05, momentum=0.1, affine=True, track_running_stats=True)\n",
              "    (5): LeakyReLU(negative_slope=0.1)\n",
              "  )\n",
              "  (conv3): Sequential(\n",
              "    (0): Conv3d(64, 128, kernel_size=(3, 3, 3), stride=(1, 1, 1), padding=same)\n",
              "    (1): BatchNorm3d(128, eps=1e-05, momentum=0.1, affine=True, track_running_stats=True)\n",
              "    (2): LeakyReLU(negative_slope=0.1)\n",
              "    (3): Conv3d(128, 128, kernel_size=(3, 3, 3), stride=(1, 1, 1), padding=same)\n",
              "    (4): BatchNorm3d(128, eps=1e-05, momentum=0.1, affine=True, track_running_stats=True)\n",
              "    (5): LeakyReLU(negative_slope=0.1)\n",
              "  )\n",
              "  (conv4): Sequential(\n",
              "    (0): Conv3d(128, 256, kernel_size=(3, 3, 3), stride=(1, 1, 1), padding=same)\n",
              "    (1): BatchNorm3d(256, eps=1e-05, momentum=0.1, affine=True, track_running_stats=True)\n",
              "    (2): LeakyReLU(negative_slope=0.1)\n",
              "    (3): Conv3d(256, 256, kernel_size=(3, 3, 3), stride=(1, 1, 1), padding=same)\n",
              "    (4): BatchNorm3d(256, eps=1e-05, momentum=0.1, affine=True, track_running_stats=True)\n",
              "    (5): LeakyReLU(negative_slope=0.1)\n",
              "  )\n",
              "  (last_layer): Sequential(\n",
              "    (0): Conv3d(256, 512, kernel_size=(3, 3, 3), stride=(1, 1, 1), padding=same)\n",
              "    (1): BatchNorm3d(512, eps=1e-05, momentum=0.1, affine=True, track_running_stats=True)\n",
              "    (2): LeakyReLU(negative_slope=0.1)\n",
              "    (3): Conv3d(512, 512, kernel_size=(3, 3, 3), stride=(1, 1, 1), padding=same)\n",
              "  )\n",
              "  (max_pool122): MaxPool3d(kernel_size=2, stride=(1, 2, 2), padding=0, dilation=1, ceil_mode=False)\n",
              "  (max_pool2): MaxPool3d(kernel_size=2, stride=2, padding=0, dilation=1, ceil_mode=False)\n",
              ")"
            ]
          },
          "metadata": {},
          "execution_count": 11
        }
      ],
      "source": [
        "cpc_images_encoder_path = \"/content/gdrive/MyDrive/JHU/Courses/Deep Learning/DL_Project/runs/cpc_3d_encoder/1651689411_116581/cpc_images_encoder.pth\"\n",
        "cpc_images_encoder_model = cpc_images_encoder()\n",
        "checkpoint = T.load(cpc_images_encoder_path)\n",
        "cpc_images_encoder_model.load_state_dict(checkpoint['model_state_dict'])\n",
        "\n",
        "if gpu_boole:\n",
        "  cpc_images_encoder_model = cpc_images_encoder_model.cuda()\n",
        "\n",
        "cpc_images_encoder_model.eval()"
      ]
    },
    {
      "cell_type": "markdown",
      "metadata": {
        "id": "vRYns1ngcV8n"
      },
      "source": [
        "### Freeze Model"
      ]
    },
    {
      "cell_type": "code",
      "execution_count": 12,
      "metadata": {
        "id": "qXSGzCApcY1N"
      },
      "outputs": [],
      "source": [
        "for child in cpc_images_encoder_model.children():\n",
        "  for param in child.parameters():\n",
        "    param.requires_grad = False"
      ]
    },
    {
      "cell_type": "markdown",
      "metadata": {
        "id": "2yzo5T7JwECC"
      },
      "source": [
        "### Print Architecture"
      ]
    },
    {
      "cell_type": "code",
      "execution_count": 13,
      "metadata": {
        "id": "02m7Z-GcwG4p",
        "colab": {
          "base_uri": "https://localhost:8080/"
        },
        "outputId": "798ba473-6dde-459d-a537-e6c63b1d7f7b"
      },
      "outputs": [
        {
          "output_type": "stream",
          "name": "stdout",
          "text": [
            "----------------------------------------------------------------\n",
            "        Layer (type)               Output Shape         Param #\n",
            "================================================================\n",
            "            Conv3d-1     [-1, 32, 10, 128, 160]           2,624\n",
            "       BatchNorm3d-2     [-1, 32, 10, 128, 160]              64\n",
            "         LeakyReLU-3     [-1, 32, 10, 128, 160]               0\n",
            "         MaxPool3d-4        [-1, 32, 5, 64, 80]               0\n",
            "            Conv3d-5        [-1, 64, 5, 64, 80]          55,360\n",
            "       BatchNorm3d-6        [-1, 64, 5, 64, 80]             128\n",
            "         LeakyReLU-7        [-1, 64, 5, 64, 80]               0\n",
            "            Conv3d-8        [-1, 64, 5, 64, 80]         110,656\n",
            "       BatchNorm3d-9        [-1, 64, 5, 64, 80]             128\n",
            "        LeakyReLU-10        [-1, 64, 5, 64, 80]               0\n",
            "        MaxPool3d-11        [-1, 64, 4, 32, 40]               0\n",
            "           Conv3d-12       [-1, 128, 4, 32, 40]         221,312\n",
            "      BatchNorm3d-13       [-1, 128, 4, 32, 40]             256\n",
            "        LeakyReLU-14       [-1, 128, 4, 32, 40]               0\n",
            "           Conv3d-15       [-1, 128, 4, 32, 40]         442,496\n",
            "      BatchNorm3d-16       [-1, 128, 4, 32, 40]             256\n",
            "        LeakyReLU-17       [-1, 128, 4, 32, 40]               0\n",
            "        MaxPool3d-18       [-1, 128, 2, 16, 20]               0\n",
            "           Conv3d-19       [-1, 256, 2, 16, 20]         884,992\n",
            "      BatchNorm3d-20       [-1, 256, 2, 16, 20]             512\n",
            "        LeakyReLU-21       [-1, 256, 2, 16, 20]               0\n",
            "           Conv3d-22       [-1, 256, 2, 16, 20]       1,769,728\n",
            "      BatchNorm3d-23       [-1, 256, 2, 16, 20]             512\n",
            "        LeakyReLU-24       [-1, 256, 2, 16, 20]               0\n",
            "        MaxPool3d-25        [-1, 256, 1, 8, 10]               0\n",
            "           Conv3d-26        [-1, 512, 1, 8, 10]       3,539,456\n",
            "      BatchNorm3d-27        [-1, 512, 1, 8, 10]           1,024\n",
            "        LeakyReLU-28        [-1, 512, 1, 8, 10]               0\n",
            "           Conv3d-29        [-1, 512, 1, 8, 10]       7,078,400\n",
            "================================================================\n",
            "Total params: 14,107,904\n",
            "Trainable params: 0\n",
            "Non-trainable params: 14,107,904\n",
            "----------------------------------------------------------------\n",
            "Input size (MB): 9.38\n",
            "Forward/backward pass size (MB): 273.28\n",
            "Params size (MB): 53.82\n",
            "Estimated Total Size (MB): 336.47\n",
            "----------------------------------------------------------------\n"
          ]
        }
      ],
      "source": [
        "# image_shape = (512, 672)\n",
        "image_shape = (256, 320)\n",
        "frames_per_term = 10\n",
        "# print(cpc_images_encoder_model)\n",
        "summary(cpc_images_encoder_model, (3, frames_per_term, image_shape[0], image_shape[1])) # dataloader provides batches of shape: (batch_size, c, frames, h, w)"
      ]
    },
    {
      "cell_type": "markdown",
      "metadata": {
        "id": "A0obPQtT0Jez"
      },
      "source": [
        "## Encoder for CPC Kinematics"
      ]
    },
    {
      "cell_type": "markdown",
      "metadata": {
        "id": "m5sOeaWc97Kx"
      },
      "source": [
        "### Define Architecture\n",
        "- TODO"
      ]
    },
    {
      "cell_type": "code",
      "execution_count": 14,
      "metadata": {
        "id": "ROYmy-uE9_ja"
      },
      "outputs": [],
      "source": [
        "# Encoder\n",
        "# Uses linear layers for fully connected layers (i.e. not fully convolutional)\n",
        "\n",
        "class cpc_kinematic_encoder(nn.Module):\n",
        "    # initializers\n",
        "    def __init__(self, input_channel, code_size):\n",
        "        '''\n",
        "        input_channel: \n",
        "            18, treat one value of one degree of freedom  of one joint/jaw/etc as one channel\n",
        "        code_size:\n",
        "            80, output size. It is (80, 1)\n",
        "        '''\n",
        "        super(cpc_kinematic_encoder, self).__init__()\n",
        "\n",
        "        # convolution layers\n",
        "        self.conv1 = nn.Conv1d(in_channels=input_channel, out_channels=8, kernel_size=1)\n",
        "        \n",
        "        # # fully connected layers\n",
        "        self.flatten = nn.Flatten()\n",
        "        self.fc1 = nn.Linear(in_features=8*10, out_features=4)  # 10 is because we fix the frame per term as 10.\n",
        "        self.bnorm5 = nn.BatchNorm1d(4)\n",
        "        self.fc2 = nn.Linear(in_features=4, out_features=code_size)\n",
        " \n",
        "        # activations\n",
        "        self.leakyRelu = nn.LeakyReLU()\n",
        "\n",
        "    # weight_init\n",
        "    # def weight_init(self, mean, std):\n",
        "    def weight_init(self):\n",
        "        for m in self._modules:\n",
        "            # normal_init(self._modules[m], mean, std)\n",
        "            if isinstance(m, nn.Conv1d) or isinstance(m, nn.ConvTranspose1d) or isinstance(m, nn.Linear):\n",
        "                if m.bias is not None:\n",
        "                    m.bias.data.zero_()\n",
        "                torch.nn.init.kaiming_uniform_(m.weight.data)\n",
        "\n",
        "    # forward method\n",
        "    def forward(self, input):\n",
        "      out = self.conv1(input) \n",
        "      out = self.leakyRelu(out)\n",
        "      out = self.flatten(out)\n",
        "      out = self.fc1(out)\n",
        "      out = self.bnorm5(out)\n",
        "      out = self.leakyRelu(out)\n",
        "      out = self.fc2(out)\n",
        "      return out"
      ]
    },
    {
      "cell_type": "markdown",
      "metadata": {
        "id": "Yjz5ksTt-BIx"
      },
      "source": [
        "### Load Pretrained Model\n"
      ]
    },
    {
      "cell_type": "code",
      "execution_count": 15,
      "metadata": {
        "id": "e4TcOeoiKhOa",
        "colab": {
          "base_uri": "https://localhost:8080/"
        },
        "outputId": "d66003b4-30a3-40f6-82b1-2e7374b7b88c"
      },
      "outputs": [
        {
          "output_type": "execute_result",
          "data": {
            "text/plain": [
              "<All keys matched successfully>"
            ]
          },
          "metadata": {},
          "execution_count": 15
        }
      ],
      "source": [
        "cpc_kin_encoder_path = '/content/gdrive/MyDrive/JHU/Courses/Deep Learning/DL_Project/kinematic_CPC_3D_encoder/1651411214_2568586/cpc_kinematic_encoder.pth'\n",
        "cpc_kinematic_encoder_model = cpc_kinematic_encoder(input_channel=18, code_size=80)\n",
        "# cpc_kin_encoder_model.load_state_dict(torch.load(cpc_kin_encoder_path), strict=False)\n",
        "checkpoint = T.load(cpc_kin_encoder_path)\n",
        "cpc_kinematic_encoder_model.load_state_dict(checkpoint['model_state_dict'])"
      ]
    },
    {
      "cell_type": "markdown",
      "metadata": {
        "id": "pE1d_00ecuPB"
      },
      "source": [
        "### Freeze Model\n"
      ]
    },
    {
      "cell_type": "code",
      "execution_count": 16,
      "metadata": {
        "id": "nSV9IJuBcv53"
      },
      "outputs": [],
      "source": [
        "for child in cpc_kinematic_encoder_model.children():\n",
        "  for param in child.parameters():\n",
        "    param.requires_grad = False"
      ]
    },
    {
      "cell_type": "markdown",
      "metadata": {
        "id": "7IS1UfsX-FmS"
      },
      "source": [
        "### Print Architecture\n"
      ]
    },
    {
      "cell_type": "code",
      "execution_count": 17,
      "metadata": {
        "id": "sidYi2JC-Isn",
        "colab": {
          "base_uri": "https://localhost:8080/"
        },
        "outputId": "efb54cb7-3f6a-4b6f-c867-1bb13226e6ff"
      },
      "outputs": [
        {
          "output_type": "stream",
          "name": "stdout",
          "text": [
            "----------------------------------------------------------------\n",
            "        Layer (type)               Output Shape         Param #\n",
            "================================================================\n",
            "            Conv1d-1                [-1, 8, 10]             152\n",
            "         LeakyReLU-2                [-1, 8, 10]               0\n",
            "           Flatten-3                   [-1, 80]               0\n",
            "            Linear-4                    [-1, 4]             324\n",
            "       BatchNorm1d-5                    [-1, 4]               8\n",
            "         LeakyReLU-6                    [-1, 4]               0\n",
            "            Linear-7                   [-1, 80]             400\n",
            "================================================================\n",
            "Total params: 884\n",
            "Trainable params: 0\n",
            "Non-trainable params: 884\n",
            "----------------------------------------------------------------\n",
            "Input size (MB): 0.00\n",
            "Forward/backward pass size (MB): 0.00\n",
            "Params size (MB): 0.00\n",
            "Estimated Total Size (MB): 0.01\n",
            "----------------------------------------------------------------\n",
            "cpc_kinematic_encoder(\n",
            "  (conv1): Conv1d(18, 8, kernel_size=(1,), stride=(1,))\n",
            "  (flatten): Flatten(start_dim=1, end_dim=-1)\n",
            "  (fc1): Linear(in_features=80, out_features=4, bias=True)\n",
            "  (bnorm5): BatchNorm1d(4, eps=1e-05, momentum=0.1, affine=True, track_running_stats=True)\n",
            "  (fc2): Linear(in_features=4, out_features=80, bias=True)\n",
            "  (leakyRelu): LeakyReLU(negative_slope=0.01)\n",
            ")\n"
          ]
        }
      ],
      "source": [
        "summary(cpc_kinematic_encoder_model.cuda(), (18, 10)) # 18 parameters as a data point, 1 channel, 10 time frames\n",
        "print(cpc_kinematic_encoder_model)"
      ]
    },
    {
      "cell_type": "markdown",
      "metadata": {
        "id": "HGj3zPT90Awv"
      },
      "source": [
        "## UNet\n",
        "- taken from here: https://colab.research.google.com/drive/1FtT3_qF5jcqHDazesrxkdaOtd2mvimdl#scrollTo=XJ4XVfL_UNdb\n",
        "- z-space concatenated with CPC models"
      ]
    },
    {
      "cell_type": "markdown",
      "metadata": {
        "id": "7vol0gbN0jIf"
      },
      "source": [
        "### Define Architecture"
      ]
    },
    {
      "cell_type": "code",
      "execution_count": 18,
      "metadata": {
        "id": "xoFsetvg0E31"
      },
      "outputs": [],
      "source": [
        "def add_bottleneck_conv_stage(dim_in,\n",
        "                              dim_out,\n",
        "                              kernel_size=3,\n",
        "                              stride=1,\n",
        "                              padding=1,\n",
        "                              dilation=1,\n",
        "                              bias=True,\n",
        "                              useBN=True):\n",
        "    \"\"\"\n",
        "    layer to mix concatenated bottleneck tensors\n",
        "    \"\"\"\n",
        "    # Use batch normalization\n",
        "    if useBN:\n",
        "        return nn.Sequential(\n",
        "          nn.Conv3d(dim_in, dim_out, kernel_size=kernel_size, stride=stride, padding=padding, dilation=1, bias=bias),\n",
        "          nn.BatchNorm3d(dim_out),\n",
        "          nn.LeakyReLU(0.1)\n",
        "        )\n",
        "    # No batch normalization\n",
        "    else:\n",
        "        return nn.Sequential(\n",
        "          nn.Conv3d(dim_in, dim_out, kernel_size=kernel_size, stride=stride, padding=padding, dilation=1, bias=bias),\n",
        "          nn.ReLU()\n",
        "        )\n",
        "\n",
        "## Functions for adding the convolution layer\n",
        "def add_conv_stage(dim_in,\n",
        "                   dim_out,\n",
        "                   kernel_size=3,\n",
        "                   stride=1,\n",
        "                   padding='same',\n",
        "                   bias=True,\n",
        "                   useBN=True):\n",
        "    \"\"\"\n",
        "    \n",
        "    \"\"\"\n",
        "    # Use batch normalization\n",
        "    if useBN:\n",
        "        return nn.Sequential(\n",
        "          nn.Conv3d(dim_in, dim_out, kernel_size=kernel_size, stride=stride, padding=padding, bias=bias),\n",
        "          nn.BatchNorm3d(dim_out),\n",
        "          nn.LeakyReLU(0.1),\n",
        "          nn.Conv3d(dim_out, dim_out, kernel_size=kernel_size, stride=stride, padding=padding, bias=bias),\n",
        "          nn.BatchNorm3d(dim_out),\n",
        "          nn.LeakyReLU(0.1)\n",
        "        )\n",
        "    # No batch normalization\n",
        "    else:\n",
        "        return nn.Sequential(\n",
        "          nn.Conv3d(dim_in, dim_out, kernel_size=kernel_size, stride=stride, padding=padding, bias=bias),\n",
        "          nn.ReLU(),\n",
        "          nn.Conv3d(dim_out, dim_out, kernel_size=kernel_size, stride=stride, padding=padding, bias=bias),\n",
        "          nn.ReLU()\n",
        "        )\n",
        "\n",
        "class Vanilla_UNet(nn.Module):\n",
        "    def __init__(self, loss='dice', useBN=True):\n",
        "        super(Vanilla_UNet, self).__init__()\n",
        "\n",
        "        # Downgrade stages\n",
        "        if useBN:\n",
        "          self.conv1 = nn.Sequential(\n",
        "            nn.Conv3d(3, 32, kernel_size=3, stride=(1, 2, 2), padding=1, bias=True),\n",
        "            nn.BatchNorm3d(32),\n",
        "            nn.LeakyReLU(0.1))\n",
        "        else:\n",
        "          self.conv1 = nn.Sequential(\n",
        "            nn.Conv3d(3, 32, kernel_size=3, stride=(1, 2, 2), padding=1, bias=True),\n",
        "            nn.LeakyReLU(0.1))\n",
        "        \n",
        "        self.conv2 = add_conv_stage(32, 64, useBN=useBN)\n",
        "        self.conv3 = add_conv_stage(64, 128, useBN=useBN)\n",
        "        self.conv4 = add_conv_stage(128, 256, useBN=useBN)\n",
        "        self.conv5 = add_conv_stage(256, 512, useBN=useBN)\n",
        "\n",
        "        # bottleneck tensor mixing layers\n",
        "        self.conv_bneck_1 = add_bottleneck_conv_stage(1025, 512, useBN=useBN)\n",
        "\n",
        "        # Conv layers for concat.\n",
        "        self.cs1 = nn.Sequential(\n",
        "            nn.Conv3d(32, 32, kernel_size=1, stride=1, padding=0, bias=True),\n",
        "            nn.BatchNorm3d(32),\n",
        "            nn.LeakyReLU(0.1))\n",
        "        self.cs2 = nn.Sequential(\n",
        "            nn.Conv3d(64, 64, kernel_size=1, stride=1, padding=0, bias=True),\n",
        "            nn.BatchNorm3d(64),\n",
        "            nn.LeakyReLU(0.1))\n",
        "        self.cs3 = nn.Sequential(\n",
        "            nn.Conv3d(128, 128, kernel_size=1, stride=1, padding=0, bias=True),\n",
        "            nn.BatchNorm3d(128),\n",
        "            nn.LeakyReLU(0.1))\n",
        "        self.cs4 = nn.Sequential(\n",
        "            nn.Conv3d(256, 256, kernel_size=1, stride=1, padding=0, bias=True),\n",
        "            nn.BatchNorm3d(256),\n",
        "            nn.LeakyReLU(0.1))\n",
        "\n",
        "        # Upgrade stages\n",
        "        self.conv4m = add_conv_stage(512, 256, useBN=useBN)\n",
        "        self.conv3m = add_conv_stage(256, 128, useBN=useBN)\n",
        "        self.conv2m = add_conv_stage(128,  64, useBN=useBN)\n",
        "        self.conv1m = add_conv_stage( 64,  32, useBN=useBN)\n",
        "        \n",
        "        # Maxpool\n",
        "        self.max_pool122 = nn.MaxPool3d(2, stride=(1, 2, 2))\n",
        "        self.max_pool2 = nn.MaxPool3d(2)\n",
        "        \n",
        "        # Upsample layers\n",
        "        self.upsample54 = nn.Sequential(\n",
        "                    nn.Upsample(scale_factor=2),\n",
        "                    nn.Conv3d(512, 256, kernel_size=3, padding='same', bias=True),\n",
        "                    nn.ReLU())\n",
        "        self.upsample43 = nn.Sequential(\n",
        "                    nn.Upsample(scale_factor=2),\n",
        "                    nn.Conv3d(256, 128, kernel_size=3, padding='same', bias=True),\n",
        "                    nn.ReLU())\n",
        "        self.upsample32 = nn.Sequential(\n",
        "                    nn.Upsample(size=(5, 64, 80)),\n",
        "                    nn.Conv3d(128, 64, kernel_size=3, padding='same', bias=True),\n",
        "                    nn.ReLU())\n",
        "        self.upsample21 = nn.Sequential(\n",
        "                    nn.Upsample(scale_factor=2),\n",
        "                    nn.Conv3d(64, 32, kernel_size=3, padding='same', bias=True),\n",
        "                    nn.ReLU())\n",
        "        \n",
        "        self.upsample10 = nn.Sequential(\n",
        "                    nn.Upsample(size=(10, 256, 320)),\n",
        "                    nn.Conv3d(32, 16, kernel_size=3, padding='same', bias=True),\n",
        "                    nn.BatchNorm3d(16),\n",
        "                    nn.ReLU())\n",
        "\n",
        "\n",
        "        # weight initialization\n",
        "        # You can have your own weight intialization. This is just an example.\n",
        "        for m in self.modules():\n",
        "            if isinstance(m, nn.Conv2d) or isinstance(m, nn.ConvTranspose2d):\n",
        "                if m.bias is not None:\n",
        "                    m.bias.data.zero_()\n",
        "                torch.nn.init.kaiming_uniform_(m.weight.data)\n",
        "\n",
        "        # Final layer.\n",
        "        self.conv_fin = nn.Conv3d(16, 2, 1)\n",
        "        self.dice_loss = DICELoss()\n",
        "        self.mse_loss = nn.MSELoss()\n",
        "        self.loss = self.dice_loss\n",
        "        if loss == 'mse':\n",
        "          self.loss = self.mse_loss\n",
        "        \n",
        "    \n",
        "    def forward(self, inputs_img, inputs_kin):\n",
        "\n",
        "        \"\"\"\n",
        "        Forward pass\n",
        "        \"\"\"\n",
        "        conv1_out = self.conv1(inputs_img)\n",
        "        conv2_out = self.conv2(self.max_pool2(conv1_out))\n",
        "        conv3_out = self.conv3(self.max_pool122(conv2_out))\n",
        "        conv4_out = self.conv4(self.max_pool2(conv3_out))\n",
        "        conv5_out = self.conv5(self.max_pool2(conv4_out))\n",
        "        cs1_out = self.cs1(conv1_out)\n",
        "        cs2_out = self.cs2(conv2_out)\n",
        "        cs3_out = self.cs3(conv3_out)\n",
        "        cs4_out = self.cs4(conv4_out)\n",
        "\n",
        "        ## mix in CPC encoders at bottleneck\n",
        "\n",
        "        # method 1 - concatenate cpc models' output (z-space) to unet bottleneck and mix with convolution\n",
        "        #TODO add in cpc kinematics z_k\n",
        "        z_i = cpc_images_encoder_model(inputs_img)\n",
        "        z_k = cpc_kinematic_encoder_model(inputs_kin)\n",
        "        zkk_reshape = z_k.reshape(z_k.shape[0], 8, 10)\n",
        "        z_k = zkk_reshape.unsqueeze(1).unsqueeze(1)\n",
        "\n",
        "        bottleneck = T.cat((conv5_out, z_i, z_k), 1)\n",
        "        bottleneck = self.conv_bneck_1(bottleneck)\n",
        "        \n",
        "        # # method 2 - we simply average the tensors at the bottleneck\n",
        "        # bottleneck = conv5_out.add(z_i)\n",
        "        # bottleneck = T.div(bottleneck, 2) \n",
        "        # #TODO adjust denominator when CPC kinematics is added in\n",
        "\n",
        "        # conv5m_out_ = torch.cat((self.upsample54(conv5_out), conv4_out), 1)\n",
        "        conv5m_out_ = torch.cat((self.upsample54(bottleneck), cs4_out), 1)\n",
        "        # conv5m_out_ = torch.cat((self.upsample54(conv5_out), cs4_out), 1)\n",
        "        conv4m_out  = self.conv4m(conv5m_out_)\n",
        "\n",
        "        # conv4m_out_ = torch.cat((self.upsample43(conv4m_out), conv3_out), 1)\n",
        "        conv4m_out_ = torch.cat((self.upsample43(conv4m_out), cs3_out), 1)\n",
        "        conv3m_out  = self.conv3m(conv4m_out_)\n",
        "\n",
        "        # conv3m_out_ = torch.cat((self.upsample32(conv3m_out), conv2_out), 1)\n",
        "        conv3m_out_ = torch.cat((self.upsample32(conv3m_out), cs2_out), 1)\n",
        "        conv2m_out  = self.conv2m(conv3m_out_)\n",
        "\n",
        "        # conv2m_out_ = torch.cat((self.upsample21(conv2m_out), conv1_out), 1)\n",
        "        conv2m_out_ = torch.cat((self.upsample21(conv2m_out), cs1_out), 1)\n",
        "        conv1m_out  = self.conv1m(conv2m_out_)\n",
        "\n",
        "        conv0m_out = self.upsample10(conv1m_out)\n",
        "\n",
        "        out = self.conv_fin(conv0m_out)\n",
        "\n",
        "        return out"
      ]
    },
    {
      "cell_type": "markdown",
      "metadata": {
        "id": "5C0lrYMK00a2"
      },
      "source": [
        "### Load Pretrained Model"
      ]
    },
    {
      "cell_type": "code",
      "execution_count": 19,
      "metadata": {
        "id": "gqRUnNy91Fgy"
      },
      "outputs": [],
      "source": [
        "# the full unet model was saved so we must load it and resave it using the state_dict syntax so that we can modify it with the CPC encoders\n",
        "unet_path = \"/content/gdrive/MyDrive/JHU/Courses/Deep Learning/DL_Project/runs/final_with_cs_20_epochs.pt\"\n",
        "unet_model = T.load(unet_path)\n",
        "T.save({\n",
        "      'model_state_dict': unet_model.state_dict()\n",
        "      }, os.path.join(\"/content/gdrive/MyDrive/JHU/Courses/Deep Learning/DL_Project/runs\", 'final_with_cs_20_epochs_state_dict.pt'))\n",
        "\n",
        "unet_path = \"/content/gdrive/MyDrive/JHU/Courses/Deep Learning/DL_Project/runs/final_with_cs_20_epochs_state_dict.pt\"\n",
        "unet_model = Vanilla_UNet()\n",
        "checkpoint = T.load(unet_path)\n",
        "unet_model.load_state_dict(checkpoint['model_state_dict'], strict=False)\n",
        "\n",
        "if gpu_boole:\n",
        "  unet_model = unet_model.cuda()"
      ]
    },
    {
      "cell_type": "markdown",
      "metadata": {
        "id": "wfHUMi9o-WzP"
      },
      "source": [
        "### Print Architecture"
      ]
    },
    {
      "cell_type": "code",
      "execution_count": 20,
      "metadata": {
        "id": "w4DKPh_A-bcM",
        "colab": {
          "base_uri": "https://localhost:8080/"
        },
        "outputId": "f84c4a3f-8b12-483d-a9cc-8b4597a298c3"
      },
      "outputs": [
        {
          "output_type": "stream",
          "name": "stdout",
          "text": [
            "Vanilla_UNet(\n",
            "  (conv1): Sequential(\n",
            "    (0): Conv3d(3, 32, kernel_size=(3, 3, 3), stride=(1, 2, 2), padding=(1, 1, 1))\n",
            "    (1): BatchNorm3d(32, eps=1e-05, momentum=0.1, affine=True, track_running_stats=True)\n",
            "    (2): LeakyReLU(negative_slope=0.1)\n",
            "  )\n",
            "  (conv2): Sequential(\n",
            "    (0): Conv3d(32, 64, kernel_size=(3, 3, 3), stride=(1, 1, 1), padding=same)\n",
            "    (1): BatchNorm3d(64, eps=1e-05, momentum=0.1, affine=True, track_running_stats=True)\n",
            "    (2): LeakyReLU(negative_slope=0.1)\n",
            "    (3): Conv3d(64, 64, kernel_size=(3, 3, 3), stride=(1, 1, 1), padding=same)\n",
            "    (4): BatchNorm3d(64, eps=1e-05, momentum=0.1, affine=True, track_running_stats=True)\n",
            "    (5): LeakyReLU(negative_slope=0.1)\n",
            "  )\n",
            "  (conv3): Sequential(\n",
            "    (0): Conv3d(64, 128, kernel_size=(3, 3, 3), stride=(1, 1, 1), padding=same)\n",
            "    (1): BatchNorm3d(128, eps=1e-05, momentum=0.1, affine=True, track_running_stats=True)\n",
            "    (2): LeakyReLU(negative_slope=0.1)\n",
            "    (3): Conv3d(128, 128, kernel_size=(3, 3, 3), stride=(1, 1, 1), padding=same)\n",
            "    (4): BatchNorm3d(128, eps=1e-05, momentum=0.1, affine=True, track_running_stats=True)\n",
            "    (5): LeakyReLU(negative_slope=0.1)\n",
            "  )\n",
            "  (conv4): Sequential(\n",
            "    (0): Conv3d(128, 256, kernel_size=(3, 3, 3), stride=(1, 1, 1), padding=same)\n",
            "    (1): BatchNorm3d(256, eps=1e-05, momentum=0.1, affine=True, track_running_stats=True)\n",
            "    (2): LeakyReLU(negative_slope=0.1)\n",
            "    (3): Conv3d(256, 256, kernel_size=(3, 3, 3), stride=(1, 1, 1), padding=same)\n",
            "    (4): BatchNorm3d(256, eps=1e-05, momentum=0.1, affine=True, track_running_stats=True)\n",
            "    (5): LeakyReLU(negative_slope=0.1)\n",
            "  )\n",
            "  (conv5): Sequential(\n",
            "    (0): Conv3d(256, 512, kernel_size=(3, 3, 3), stride=(1, 1, 1), padding=same)\n",
            "    (1): BatchNorm3d(512, eps=1e-05, momentum=0.1, affine=True, track_running_stats=True)\n",
            "    (2): LeakyReLU(negative_slope=0.1)\n",
            "    (3): Conv3d(512, 512, kernel_size=(3, 3, 3), stride=(1, 1, 1), padding=same)\n",
            "    (4): BatchNorm3d(512, eps=1e-05, momentum=0.1, affine=True, track_running_stats=True)\n",
            "    (5): LeakyReLU(negative_slope=0.1)\n",
            "  )\n",
            "  (conv_bneck_1): Sequential(\n",
            "    (0): Conv3d(1025, 512, kernel_size=(3, 3, 3), stride=(1, 1, 1), padding=(1, 1, 1))\n",
            "    (1): BatchNorm3d(512, eps=1e-05, momentum=0.1, affine=True, track_running_stats=True)\n",
            "    (2): LeakyReLU(negative_slope=0.1)\n",
            "  )\n",
            "  (cs1): Sequential(\n",
            "    (0): Conv3d(32, 32, kernel_size=(1, 1, 1), stride=(1, 1, 1))\n",
            "    (1): BatchNorm3d(32, eps=1e-05, momentum=0.1, affine=True, track_running_stats=True)\n",
            "    (2): LeakyReLU(negative_slope=0.1)\n",
            "  )\n",
            "  (cs2): Sequential(\n",
            "    (0): Conv3d(64, 64, kernel_size=(1, 1, 1), stride=(1, 1, 1))\n",
            "    (1): BatchNorm3d(64, eps=1e-05, momentum=0.1, affine=True, track_running_stats=True)\n",
            "    (2): LeakyReLU(negative_slope=0.1)\n",
            "  )\n",
            "  (cs3): Sequential(\n",
            "    (0): Conv3d(128, 128, kernel_size=(1, 1, 1), stride=(1, 1, 1))\n",
            "    (1): BatchNorm3d(128, eps=1e-05, momentum=0.1, affine=True, track_running_stats=True)\n",
            "    (2): LeakyReLU(negative_slope=0.1)\n",
            "  )\n",
            "  (cs4): Sequential(\n",
            "    (0): Conv3d(256, 256, kernel_size=(1, 1, 1), stride=(1, 1, 1))\n",
            "    (1): BatchNorm3d(256, eps=1e-05, momentum=0.1, affine=True, track_running_stats=True)\n",
            "    (2): LeakyReLU(negative_slope=0.1)\n",
            "  )\n",
            "  (conv4m): Sequential(\n",
            "    (0): Conv3d(512, 256, kernel_size=(3, 3, 3), stride=(1, 1, 1), padding=same)\n",
            "    (1): BatchNorm3d(256, eps=1e-05, momentum=0.1, affine=True, track_running_stats=True)\n",
            "    (2): LeakyReLU(negative_slope=0.1)\n",
            "    (3): Conv3d(256, 256, kernel_size=(3, 3, 3), stride=(1, 1, 1), padding=same)\n",
            "    (4): BatchNorm3d(256, eps=1e-05, momentum=0.1, affine=True, track_running_stats=True)\n",
            "    (5): LeakyReLU(negative_slope=0.1)\n",
            "  )\n",
            "  (conv3m): Sequential(\n",
            "    (0): Conv3d(256, 128, kernel_size=(3, 3, 3), stride=(1, 1, 1), padding=same)\n",
            "    (1): BatchNorm3d(128, eps=1e-05, momentum=0.1, affine=True, track_running_stats=True)\n",
            "    (2): LeakyReLU(negative_slope=0.1)\n",
            "    (3): Conv3d(128, 128, kernel_size=(3, 3, 3), stride=(1, 1, 1), padding=same)\n",
            "    (4): BatchNorm3d(128, eps=1e-05, momentum=0.1, affine=True, track_running_stats=True)\n",
            "    (5): LeakyReLU(negative_slope=0.1)\n",
            "  )\n",
            "  (conv2m): Sequential(\n",
            "    (0): Conv3d(128, 64, kernel_size=(3, 3, 3), stride=(1, 1, 1), padding=same)\n",
            "    (1): BatchNorm3d(64, eps=1e-05, momentum=0.1, affine=True, track_running_stats=True)\n",
            "    (2): LeakyReLU(negative_slope=0.1)\n",
            "    (3): Conv3d(64, 64, kernel_size=(3, 3, 3), stride=(1, 1, 1), padding=same)\n",
            "    (4): BatchNorm3d(64, eps=1e-05, momentum=0.1, affine=True, track_running_stats=True)\n",
            "    (5): LeakyReLU(negative_slope=0.1)\n",
            "  )\n",
            "  (conv1m): Sequential(\n",
            "    (0): Conv3d(64, 32, kernel_size=(3, 3, 3), stride=(1, 1, 1), padding=same)\n",
            "    (1): BatchNorm3d(32, eps=1e-05, momentum=0.1, affine=True, track_running_stats=True)\n",
            "    (2): LeakyReLU(negative_slope=0.1)\n",
            "    (3): Conv3d(32, 32, kernel_size=(3, 3, 3), stride=(1, 1, 1), padding=same)\n",
            "    (4): BatchNorm3d(32, eps=1e-05, momentum=0.1, affine=True, track_running_stats=True)\n",
            "    (5): LeakyReLU(negative_slope=0.1)\n",
            "  )\n",
            "  (max_pool122): MaxPool3d(kernel_size=2, stride=(1, 2, 2), padding=0, dilation=1, ceil_mode=False)\n",
            "  (max_pool2): MaxPool3d(kernel_size=2, stride=2, padding=0, dilation=1, ceil_mode=False)\n",
            "  (upsample54): Sequential(\n",
            "    (0): Upsample(scale_factor=2.0, mode=nearest)\n",
            "    (1): Conv3d(512, 256, kernel_size=(3, 3, 3), stride=(1, 1, 1), padding=same)\n",
            "    (2): ReLU()\n",
            "  )\n",
            "  (upsample43): Sequential(\n",
            "    (0): Upsample(scale_factor=2.0, mode=nearest)\n",
            "    (1): Conv3d(256, 128, kernel_size=(3, 3, 3), stride=(1, 1, 1), padding=same)\n",
            "    (2): ReLU()\n",
            "  )\n",
            "  (upsample32): Sequential(\n",
            "    (0): Upsample(size=(5, 64, 80), mode=nearest)\n",
            "    (1): Conv3d(128, 64, kernel_size=(3, 3, 3), stride=(1, 1, 1), padding=same)\n",
            "    (2): ReLU()\n",
            "  )\n",
            "  (upsample21): Sequential(\n",
            "    (0): Upsample(scale_factor=2.0, mode=nearest)\n",
            "    (1): Conv3d(64, 32, kernel_size=(3, 3, 3), stride=(1, 1, 1), padding=same)\n",
            "    (2): ReLU()\n",
            "  )\n",
            "  (upsample10): Sequential(\n",
            "    (0): Upsample(size=(10, 256, 320), mode=nearest)\n",
            "    (1): Conv3d(32, 16, kernel_size=(3, 3, 3), stride=(1, 1, 1), padding=same)\n",
            "    (2): BatchNorm3d(16, eps=1e-05, momentum=0.1, affine=True, track_running_stats=True)\n",
            "    (3): ReLU()\n",
            "  )\n",
            "  (conv_fin): Conv3d(16, 2, kernel_size=(1, 1, 1), stride=(1, 1, 1))\n",
            "  (dice_loss): DICELoss()\n",
            "  (mse_loss): MSELoss()\n",
            "  (loss): DICELoss()\n",
            ")\n"
          ]
        }
      ],
      "source": [
        "image_shape = (256, 320)\n",
        "\n",
        "# Note: there's an issue trying to use loaded model\n",
        "# Until Google Colab next upgrades pytorch to the recent comapatibility fix in this issue: https://github.com/ultralytics/yolov5/issues/6948#issuecomment-1075528897 \n",
        "# we have to manually apply this fix: https://github.com/ultralytics/yolov5/issues/6948#issuecomment-1075548218 and then restart the runtime before trying to load the model \n",
        "\n",
        "if gpu_boole:\n",
        "  unet_model = unet_model.cuda()\n",
        "print(unet_model)\n",
        "# summary(unet_model, [(3, frames_per_term, image_shape[0], image_shape[1]), (kin.shape[1], kin.shape[2])]) # NOTE: fails because summary() expects model inputs to have equal number of dimensions"
      ]
    },
    {
      "cell_type": "markdown",
      "metadata": {
        "id": "gIWW8S3yulFZ"
      },
      "source": [
        "### Freeze Encoder"
      ]
    },
    {
      "cell_type": "code",
      "execution_count": 21,
      "metadata": {
        "id": "ar8gE1QWuocX",
        "colab": {
          "base_uri": "https://localhost:8080/"
        },
        "outputId": "fdfe5991-154e-43ca-cbce-0320f457a1fe"
      },
      "outputs": [
        {
          "output_type": "stream",
          "name": "stdout",
          "text": [
            "Sequential(\n",
            "  (0): Conv3d(3, 32, kernel_size=(3, 3, 3), stride=(1, 2, 2), padding=(1, 1, 1))\n",
            "  (1): BatchNorm3d(32, eps=1e-05, momentum=0.1, affine=True, track_running_stats=True)\n",
            "  (2): LeakyReLU(negative_slope=0.1)\n",
            ")\n",
            "Sequential(\n",
            "  (0): Conv3d(32, 64, kernel_size=(3, 3, 3), stride=(1, 1, 1), padding=same)\n",
            "  (1): BatchNorm3d(64, eps=1e-05, momentum=0.1, affine=True, track_running_stats=True)\n",
            "  (2): LeakyReLU(negative_slope=0.1)\n",
            "  (3): Conv3d(64, 64, kernel_size=(3, 3, 3), stride=(1, 1, 1), padding=same)\n",
            "  (4): BatchNorm3d(64, eps=1e-05, momentum=0.1, affine=True, track_running_stats=True)\n",
            "  (5): LeakyReLU(negative_slope=0.1)\n",
            ")\n",
            "Sequential(\n",
            "  (0): Conv3d(64, 128, kernel_size=(3, 3, 3), stride=(1, 1, 1), padding=same)\n",
            "  (1): BatchNorm3d(128, eps=1e-05, momentum=0.1, affine=True, track_running_stats=True)\n",
            "  (2): LeakyReLU(negative_slope=0.1)\n",
            "  (3): Conv3d(128, 128, kernel_size=(3, 3, 3), stride=(1, 1, 1), padding=same)\n",
            "  (4): BatchNorm3d(128, eps=1e-05, momentum=0.1, affine=True, track_running_stats=True)\n",
            "  (5): LeakyReLU(negative_slope=0.1)\n",
            ")\n",
            "Sequential(\n",
            "  (0): Conv3d(128, 256, kernel_size=(3, 3, 3), stride=(1, 1, 1), padding=same)\n",
            "  (1): BatchNorm3d(256, eps=1e-05, momentum=0.1, affine=True, track_running_stats=True)\n",
            "  (2): LeakyReLU(negative_slope=0.1)\n",
            "  (3): Conv3d(256, 256, kernel_size=(3, 3, 3), stride=(1, 1, 1), padding=same)\n",
            "  (4): BatchNorm3d(256, eps=1e-05, momentum=0.1, affine=True, track_running_stats=True)\n",
            "  (5): LeakyReLU(negative_slope=0.1)\n",
            ")\n",
            "Sequential(\n",
            "  (0): Conv3d(256, 512, kernel_size=(3, 3, 3), stride=(1, 1, 1), padding=same)\n",
            "  (1): BatchNorm3d(512, eps=1e-05, momentum=0.1, affine=True, track_running_stats=True)\n",
            "  (2): LeakyReLU(negative_slope=0.1)\n",
            "  (3): Conv3d(512, 512, kernel_size=(3, 3, 3), stride=(1, 1, 1), padding=same)\n",
            "  (4): BatchNorm3d(512, eps=1e-05, momentum=0.1, affine=True, track_running_stats=True)\n",
            "  (5): LeakyReLU(negative_slope=0.1)\n",
            ")\n"
          ]
        }
      ],
      "source": [
        "cntr = 5 # The first 5 layers are the encoder of the UNet, and the CPC featured map will be added between the 5th the 6th layer.\n",
        "for idx, child in enumerate(unet_model.children()):\n",
        "  if idx < cntr:\n",
        "    print(child)\n",
        "    for param in child.parameters():\n",
        "      param.requires_grad = False"
      ]
    },
    {
      "cell_type": "code",
      "execution_count": 22,
      "metadata": {
        "id": "22zRbd-lTuH5",
        "colab": {
          "base_uri": "https://localhost:8080/"
        },
        "outputId": "ff890826-ec15-4f52-ea5e-c1b9c2130ade"
      },
      "outputs": [
        {
          "output_type": "stream",
          "name": "stdout",
          "text": [
            "Mounted at /content/drive\n"
          ]
        }
      ],
      "source": [
        "from google.colab import drive\n",
        "drive.mount('/content/drive')"
      ]
    },
    {
      "cell_type": "markdown",
      "metadata": {
        "id": "Nzinn9lqKPPF"
      },
      "source": [
        "# Evaluate Pretrained Modified UNet with Frozen CPC Encoders"
      ]
    },
    {
      "cell_type": "markdown",
      "metadata": {
        "id": "_HjFfHaSnmBW"
      },
      "source": [
        "## Inference/Visualize on Test Batch\n",
        "\n",
        "Modify the original process a little bit, since it seems the unsqueeze way doesn't work for the kin_encoder and stuck at the fc1 layer."
      ]
    },
    {
      "cell_type": "code",
      "execution_count": null,
      "metadata": {
        "colab": {
          "base_uri": "https://localhost:8080/",
          "height": 606
        },
        "id": "dE_dRSJE-CBK",
        "outputId": "80c40e61-c203-444d-f363-1a8031bc176f"
      },
      "outputs": [
        {
          "output_type": "stream",
          "name": "stderr",
          "text": [
            "0it [00:00, ?it/s]\n"
          ]
        },
        {
          "output_type": "error",
          "ename": "OSError",
          "evalue": "ignored",
          "traceback": [
            "\u001b[0;31m---------------------------------------------------------------------------\u001b[0m",
            "\u001b[0;31mOSError\u001b[0m                                   Traceback (most recent call last)",
            "\u001b[0;32m<ipython-input-24-c3b079bf9271>\u001b[0m in \u001b[0;36m<module>\u001b[0;34m()\u001b[0m\n\u001b[1;32m      1\u001b[0m \u001b[0munet_model\u001b[0m\u001b[0;34m.\u001b[0m\u001b[0meval\u001b[0m\u001b[0;34m(\u001b[0m\u001b[0;34m)\u001b[0m\u001b[0;34m\u001b[0m\u001b[0;34m\u001b[0m\u001b[0m\n\u001b[0;32m----> 2\u001b[0;31m \u001b[0;32mfor\u001b[0m \u001b[0mk\u001b[0m\u001b[0;34m,\u001b[0m \u001b[0;34m(\u001b[0m\u001b[0mimg\u001b[0m\u001b[0;34m,\u001b[0m \u001b[0mmask\u001b[0m\u001b[0;34m,\u001b[0m \u001b[0mkin\u001b[0m\u001b[0;34m)\u001b[0m \u001b[0;32min\u001b[0m \u001b[0mtqdm\u001b[0m\u001b[0;34m(\u001b[0m\u001b[0menumerate\u001b[0m\u001b[0;34m(\u001b[0m\u001b[0mtest_dataloader\u001b[0m\u001b[0;34m)\u001b[0m\u001b[0;34m)\u001b[0m\u001b[0;34m:\u001b[0m\u001b[0;34m\u001b[0m\u001b[0;34m\u001b[0m\u001b[0m\n\u001b[0m\u001b[1;32m      3\u001b[0m   \u001b[0mprint\u001b[0m\u001b[0;34m(\u001b[0m\u001b[0mlen\u001b[0m\u001b[0;34m(\u001b[0m\u001b[0mtest_dataloader\u001b[0m\u001b[0;34m)\u001b[0m\u001b[0;34m)\u001b[0m\u001b[0;34m\u001b[0m\u001b[0;34m\u001b[0m\u001b[0m\n\u001b[1;32m      4\u001b[0m \u001b[0;34m\u001b[0m\u001b[0m\n\u001b[1;32m      5\u001b[0m   \u001b[0;32mif\u001b[0m \u001b[0mgpu_boole\u001b[0m\u001b[0;34m:\u001b[0m\u001b[0;34m\u001b[0m\u001b[0;34m\u001b[0m\u001b[0m\n",
            "\u001b[0;32m/usr/local/lib/python3.7/dist-packages/tqdm/std.py\u001b[0m in \u001b[0;36m__iter__\u001b[0;34m(self)\u001b[0m\n\u001b[1;32m   1193\u001b[0m \u001b[0;34m\u001b[0m\u001b[0m\n\u001b[1;32m   1194\u001b[0m         \u001b[0;32mtry\u001b[0m\u001b[0;34m:\u001b[0m\u001b[0;34m\u001b[0m\u001b[0;34m\u001b[0m\u001b[0m\n\u001b[0;32m-> 1195\u001b[0;31m             \u001b[0;32mfor\u001b[0m \u001b[0mobj\u001b[0m \u001b[0;32min\u001b[0m \u001b[0miterable\u001b[0m\u001b[0;34m:\u001b[0m\u001b[0;34m\u001b[0m\u001b[0;34m\u001b[0m\u001b[0m\n\u001b[0m\u001b[1;32m   1196\u001b[0m                 \u001b[0;32myield\u001b[0m \u001b[0mobj\u001b[0m\u001b[0;34m\u001b[0m\u001b[0;34m\u001b[0m\u001b[0m\n\u001b[1;32m   1197\u001b[0m                 \u001b[0;31m# Update and possibly print the progressbar.\u001b[0m\u001b[0;34m\u001b[0m\u001b[0;34m\u001b[0m\u001b[0;34m\u001b[0m\u001b[0m\n",
            "\u001b[0;32m/usr/local/lib/python3.7/dist-packages/torch/utils/data/dataloader.py\u001b[0m in \u001b[0;36m__next__\u001b[0;34m(self)\u001b[0m\n\u001b[1;32m    528\u001b[0m             \u001b[0;32mif\u001b[0m \u001b[0mself\u001b[0m\u001b[0;34m.\u001b[0m\u001b[0m_sampler_iter\u001b[0m \u001b[0;32mis\u001b[0m \u001b[0;32mNone\u001b[0m\u001b[0;34m:\u001b[0m\u001b[0;34m\u001b[0m\u001b[0;34m\u001b[0m\u001b[0m\n\u001b[1;32m    529\u001b[0m                 \u001b[0mself\u001b[0m\u001b[0;34m.\u001b[0m\u001b[0m_reset\u001b[0m\u001b[0;34m(\u001b[0m\u001b[0;34m)\u001b[0m\u001b[0;34m\u001b[0m\u001b[0;34m\u001b[0m\u001b[0m\n\u001b[0;32m--> 530\u001b[0;31m             \u001b[0mdata\u001b[0m \u001b[0;34m=\u001b[0m \u001b[0mself\u001b[0m\u001b[0;34m.\u001b[0m\u001b[0m_next_data\u001b[0m\u001b[0;34m(\u001b[0m\u001b[0;34m)\u001b[0m\u001b[0;34m\u001b[0m\u001b[0;34m\u001b[0m\u001b[0m\n\u001b[0m\u001b[1;32m    531\u001b[0m             \u001b[0mself\u001b[0m\u001b[0;34m.\u001b[0m\u001b[0m_num_yielded\u001b[0m \u001b[0;34m+=\u001b[0m \u001b[0;36m1\u001b[0m\u001b[0;34m\u001b[0m\u001b[0;34m\u001b[0m\u001b[0m\n\u001b[1;32m    532\u001b[0m             \u001b[0;32mif\u001b[0m \u001b[0mself\u001b[0m\u001b[0;34m.\u001b[0m\u001b[0m_dataset_kind\u001b[0m \u001b[0;34m==\u001b[0m \u001b[0m_DatasetKind\u001b[0m\u001b[0;34m.\u001b[0m\u001b[0mIterable\u001b[0m \u001b[0;32mand\u001b[0m\u001b[0;31m \u001b[0m\u001b[0;31m\\\u001b[0m\u001b[0;34m\u001b[0m\u001b[0;34m\u001b[0m\u001b[0m\n",
            "\u001b[0;32m/usr/local/lib/python3.7/dist-packages/torch/utils/data/dataloader.py\u001b[0m in \u001b[0;36m_next_data\u001b[0;34m(self)\u001b[0m\n\u001b[1;32m   1222\u001b[0m             \u001b[0;32melse\u001b[0m\u001b[0;34m:\u001b[0m\u001b[0;34m\u001b[0m\u001b[0;34m\u001b[0m\u001b[0m\n\u001b[1;32m   1223\u001b[0m                 \u001b[0;32mdel\u001b[0m \u001b[0mself\u001b[0m\u001b[0;34m.\u001b[0m\u001b[0m_task_info\u001b[0m\u001b[0;34m[\u001b[0m\u001b[0midx\u001b[0m\u001b[0;34m]\u001b[0m\u001b[0;34m\u001b[0m\u001b[0;34m\u001b[0m\u001b[0m\n\u001b[0;32m-> 1224\u001b[0;31m                 \u001b[0;32mreturn\u001b[0m \u001b[0mself\u001b[0m\u001b[0;34m.\u001b[0m\u001b[0m_process_data\u001b[0m\u001b[0;34m(\u001b[0m\u001b[0mdata\u001b[0m\u001b[0;34m)\u001b[0m\u001b[0;34m\u001b[0m\u001b[0;34m\u001b[0m\u001b[0m\n\u001b[0m\u001b[1;32m   1225\u001b[0m \u001b[0;34m\u001b[0m\u001b[0m\n\u001b[1;32m   1226\u001b[0m     \u001b[0;32mdef\u001b[0m \u001b[0m_try_put_index\u001b[0m\u001b[0;34m(\u001b[0m\u001b[0mself\u001b[0m\u001b[0;34m)\u001b[0m\u001b[0;34m:\u001b[0m\u001b[0;34m\u001b[0m\u001b[0;34m\u001b[0m\u001b[0m\n",
            "\u001b[0;32m/usr/local/lib/python3.7/dist-packages/torch/utils/data/dataloader.py\u001b[0m in \u001b[0;36m_process_data\u001b[0;34m(self, data)\u001b[0m\n\u001b[1;32m   1248\u001b[0m         \u001b[0mself\u001b[0m\u001b[0;34m.\u001b[0m\u001b[0m_try_put_index\u001b[0m\u001b[0;34m(\u001b[0m\u001b[0;34m)\u001b[0m\u001b[0;34m\u001b[0m\u001b[0;34m\u001b[0m\u001b[0m\n\u001b[1;32m   1249\u001b[0m         \u001b[0;32mif\u001b[0m \u001b[0misinstance\u001b[0m\u001b[0;34m(\u001b[0m\u001b[0mdata\u001b[0m\u001b[0;34m,\u001b[0m \u001b[0mExceptionWrapper\u001b[0m\u001b[0;34m)\u001b[0m\u001b[0;34m:\u001b[0m\u001b[0;34m\u001b[0m\u001b[0;34m\u001b[0m\u001b[0m\n\u001b[0;32m-> 1250\u001b[0;31m             \u001b[0mdata\u001b[0m\u001b[0;34m.\u001b[0m\u001b[0mreraise\u001b[0m\u001b[0;34m(\u001b[0m\u001b[0;34m)\u001b[0m\u001b[0;34m\u001b[0m\u001b[0;34m\u001b[0m\u001b[0m\n\u001b[0m\u001b[1;32m   1251\u001b[0m         \u001b[0;32mreturn\u001b[0m \u001b[0mdata\u001b[0m\u001b[0;34m\u001b[0m\u001b[0;34m\u001b[0m\u001b[0m\n\u001b[1;32m   1252\u001b[0m \u001b[0;34m\u001b[0m\u001b[0m\n",
            "\u001b[0;32m/usr/local/lib/python3.7/dist-packages/torch/_utils.py\u001b[0m in \u001b[0;36mreraise\u001b[0;34m(self)\u001b[0m\n\u001b[1;32m    455\u001b[0m             \u001b[0;31m# instantiate since we don't know how to\u001b[0m\u001b[0;34m\u001b[0m\u001b[0;34m\u001b[0m\u001b[0;34m\u001b[0m\u001b[0m\n\u001b[1;32m    456\u001b[0m             \u001b[0;32mraise\u001b[0m \u001b[0mRuntimeError\u001b[0m\u001b[0;34m(\u001b[0m\u001b[0mmsg\u001b[0m\u001b[0;34m)\u001b[0m \u001b[0;32mfrom\u001b[0m \u001b[0;32mNone\u001b[0m\u001b[0;34m\u001b[0m\u001b[0;34m\u001b[0m\u001b[0m\n\u001b[0;32m--> 457\u001b[0;31m         \u001b[0;32mraise\u001b[0m \u001b[0mexception\u001b[0m\u001b[0;34m\u001b[0m\u001b[0;34m\u001b[0m\u001b[0m\n\u001b[0m\u001b[1;32m    458\u001b[0m \u001b[0;34m\u001b[0m\u001b[0m\n\u001b[1;32m    459\u001b[0m \u001b[0;34m\u001b[0m\u001b[0m\n",
            "\u001b[0;31mOSError\u001b[0m: Caught OSError in DataLoader worker process 0.\nOriginal Traceback (most recent call last):\n  File \"/usr/local/lib/python3.7/dist-packages/torch/utils/data/_utils/worker.py\", line 287, in _worker_loop\n    data = fetcher.fetch(index)\n  File \"/usr/local/lib/python3.7/dist-packages/torch/utils/data/_utils/fetch.py\", line 49, in fetch\n    data = [self.dataset[idx] for idx in possibly_batched_index]\n  File \"/usr/local/lib/python3.7/dist-packages/torch/utils/data/_utils/fetch.py\", line 49, in <listcomp>\n    data = [self.dataset[idx] for idx in possibly_batched_index]\n  File \"<ipython-input-7-2cacdb79b85c>\", line 65, in __getitem__\n    img = Image.open(img_name)\n  File \"/usr/local/lib/python3.7/dist-packages/PIL/Image.py\", line 2843, in open\n    fp = builtins.open(filename, \"rb\")\nOSError: [Errno 107] Transport endpoint is not connected: '/content/gdrive/MyDrive/JHU/Courses/Deep Learning/final_project/Synthetic_MICCAI2020_dataset/Video_11/images/000.png'\n"
          ]
        }
      ],
      "source": [
        "unet_model.eval()\n",
        "for k, (img, mask, kin) in tqdm(enumerate(test_dataloader)):\n",
        "  print(len(test_dataloader))\n",
        "\n",
        "  if gpu_boole:\n",
        "    img = img.cuda()\n",
        "    mask = mask.cuda()\n",
        "    kin = kin.cuda()\n",
        "  out = unet_model.forward(img, kin)\n",
        "  print(img.shape, mask.shape, out.shape)\n",
        "\n",
        "  fig = plt.figure(figsize=(20, 6))\n",
        "  columns = 10\n",
        "  rows = 3\n",
        "\n",
        "  for i in range(rows):\n",
        "    for j in range(columns):\n",
        "      if i == 0:\n",
        "        image = torch.permute(img[0, :, j, :, :], (1, 2, 0)).cpu().numpy()\n",
        "        fig.add_subplot(rows, columns, i * columns + j + 1)\n",
        "        plt.imshow(image)\n",
        "      elif i == 1:\n",
        "        image = torch.argmax(mask[0], dim=0)[j].cpu().numpy()\n",
        "        gt = np.zeros((image.shape[0], image.shape[1], 3))\n",
        "        for idx in range(2):\n",
        "          filter_map = image == idx\n",
        "          gt[filter_map] = float(idx)\n",
        "        fig.add_subplot(rows, columns, i * columns + j + 1)\n",
        "        plt.imshow(gt)\n",
        "      else:\n",
        "        image = torch.argmax(out[0], dim=0)[j].cpu().numpy()\n",
        "        outt = np.zeros((image.shape[0], image.shape[1], 3))\n",
        "        for idx in range(2):\n",
        "          filter_map = image == idx\n",
        "          outt[filter_map] = float(idx)\n",
        "        fig.add_subplot(rows, columns, i * columns + j + 1)\n",
        "        plt.imshow(outt)\n",
        "        \n",
        "  plt.show()\n",
        "\n",
        "  if k == 0:\n",
        "    break"
      ]
    },
    {
      "cell_type": "markdown",
      "metadata": {
        "id": "ll-O_HaXnwrG"
      },
      "source": [
        "## Score on Test Set"
      ]
    },
    {
      "cell_type": "code",
      "execution_count": null,
      "metadata": {
        "id": "t1sHebggnz34"
      },
      "outputs": [],
      "source": [
        "iou_score = iou_score_dataset(unet_model, test_dataloader)\n",
        "output_dir=os.path.join('/content/gdrive/MyDrive/JHU/Courses/Deep Learning/final_project/runs/unet_cpc_both/temp/all_three', \"{}\".format(time.time()).replace('.', '_')) # timestamp the run\n",
        "# create output directory\n",
        "os.mkdir(output_dir)\n",
        "\n",
        "with open(os.path.join(output_dir, \"iou_scores.txt\"), \"a\") as f:\n",
        "  for i in range(0, len(iou_score), 300):\n",
        "    med_score = np.median(iou_score[i:i + 300])\n",
        "    iqr_score = iqr(iou_score[i:i + 300])\n",
        "    print(\"Video {}:\".format(i+1))\n",
        "    print(med_score)\n",
        "    print(iqr_score)\n",
        "    f.write(\"{}\\n\".format(med_score))\n",
        "    f.write(\"{}\\n\".format(iqr_score))\n",
        "    \n",
        "\n",
        "  med_score_total = np.median(iou_score)\n",
        "  iqr_score_total = iqr(iou_score)\n",
        "  print(\"Overall:\")\n",
        "  print(med_score_total)\n",
        "  print(iqr_score_total)\n",
        "  f.write(\"{}\\n\".format(med_score_total))\n",
        "  f.write(\"{}\\n\".format(iqr_score_total))\n",
        "  "
      ]
    },
    {
      "cell_type": "code",
      "execution_count": null,
      "metadata": {
        "id": "IcN92BZ2U3AF"
      },
      "outputs": [],
      "source": [
        "(0.6470796+0.59770787+0.6466317+0.74244004)/4"
      ]
    },
    {
      "cell_type": "markdown",
      "metadata": {
        "id": "bHfVPP7Q11fb"
      },
      "source": [
        "# Fine-Tune Modified UNet with Frozen CPC Encoders"
      ]
    },
    {
      "cell_type": "markdown",
      "metadata": {
        "id": "WFuIrF8s7Fuu"
      },
      "source": [
        "## Train Harness"
      ]
    },
    {
      "cell_type": "code",
      "execution_count": 23,
      "metadata": {
        "id": "8L5elAQprIAA"
      },
      "outputs": [],
      "source": [
        "def train(epochs, \n",
        "          batch_size, \n",
        "          output_dir,\n",
        "          unet_model=None,\n",
        "          cpc_images_encoder_model=None,\n",
        "          cpc_kinematic_encoder_model=None, \n",
        "          lr=1e-4, \n",
        "          opt_step_size=100,\n",
        "          opt_gamma=0.1,\n",
        "          verbose=1, \n",
        "          save_checkpoints=1,\n",
        "          apply_train_transforms=0):\n",
        "  '''\n",
        "  epochs: number of epochs to train \n",
        "  batch_size: batch size to use\n",
        "  output_dir: directory to hold saved models and checkpoints\n",
        "  image_shape: (h,w) of images to be resized to\n",
        "  lr: learning rate\n",
        "  opt_step_size: step size for optimizer\n",
        "  opt_gamma: gamma for optimizer\n",
        "  verbose: 0 or 1, 0 = quiet, 1 = print\n",
        "  '''\n",
        "  train_dataset = ImageDataset(data_dir, op='train', transform=True, occlusion=True)\n",
        "  val_dataset = ImageDataset(data_dir, op='val', transform=False, occlusion=False)\n",
        "  test_dataset = ImageDataset(data_dir, op='test', transform=False, occlusion=False)\n",
        "\n",
        "  train_dataloader = DataLoader(train_dataset,  batch_size=batch_size, shuffle=True, num_workers=4)\n",
        "  val_dataloader = DataLoader(val_dataset, batch_size=batch_size, shuffle=False, num_workers=4)\n",
        "  test_dataloader = DataLoader(test_dataset, batch_size=batch_size, shuffle=False, num_workers=4)\n",
        "\n",
        "  unet_model.train()\n",
        "  cpc_images_encoder_model.train()\n",
        "  cpc_kinematic_encoder_model.train()\n",
        "\n",
        "  # Initialize Optimizer and Learning Rate Scheduler\n",
        "  optimizer = torch.optim.Adam(unet_model.parameters(),lr=lr)\n",
        "  scheduler = torch.optim.lr_scheduler.StepLR(optimizer, step_size=opt_step_size, gamma=opt_gamma)\n",
        "\n",
        "  #defining epoch train loss recording arrays for later visualization/plotting:\n",
        "  train_losses = []\n",
        "  val_losses = []\n",
        "\n",
        "  print(\"Start Training...\")\n",
        "  for epoch in range(epochs):\n",
        "    ########################### Training #####################################\n",
        "    print(\"\\nEPOCH \" +str(epoch+1)+\" of \"+str(epochs)+\"\\n\")\n",
        "    time1 = time.time()\n",
        "\n",
        "    mean_loss = 0\n",
        "    count = 0\n",
        "    unet_model.train()\n",
        "    for i, (x,y,z) in tqdm(enumerate(train_dataloader)):\n",
        "      if gpu_boole:\n",
        "        x = x.cuda()\n",
        "        y = y.cuda()\n",
        "        z = z.cuda()\n",
        "\n",
        "      # loss calculation and gradient update:\n",
        "      if i > 0 or epoch > 0:\n",
        "        optimizer.zero_grad()\n",
        "      outputs = unet_model.forward(x, z)\n",
        "\n",
        "      loss = unet_model.loss(outputs, y)\n",
        "      loss.backward()\n",
        "\n",
        "      mean_loss += loss.item()\n",
        "      count += 1\n",
        "\n",
        "      ##performing update:\n",
        "      optimizer.step()\n",
        "    \n",
        "    # save checkpoint\n",
        "    if save_checkpoints > 0:\n",
        "      T.save({\n",
        "          'epoch': epoch,\n",
        "          'model_state_dict': unet_model.state_dict(),\n",
        "          'optimizer_state_dict': optimizer.state_dict(),\n",
        "          'loss': unet_model.loss\n",
        "          }, os.path.join(output_dir, 'unet_cpc_both_{}_ckpt.pth'.format(epoch+1)))\n",
        "\n",
        "    mean_loss /= count\n",
        "    train_losses.append(mean_loss)\n",
        "    print(\"Epoch\",epoch+1,':')\n",
        "    print (\"Train loss:\", mean_loss)\n",
        "    mean_loss = 0\n",
        "    count = 0\n",
        "    unet_model.eval()\n",
        "    for i, (x, y, z) in enumerate(val_dataloader):\n",
        "      if gpu_boole:\n",
        "        x = x.cuda()\n",
        "        y = y.cuda()\n",
        "        z = z.cuda()\n",
        "      outputs = unet_model.forward(x, z)\n",
        "      loss = unet_model.loss(outputs, y)\n",
        "      mean_loss += loss.item()\n",
        "      count += 1\n",
        "    \n",
        "    mean_loss /= count\n",
        "    val_losses.append(mean_loss)\n",
        "    print (\"Val loss:\", mean_loss)\n",
        "    time2 = time.time()\n",
        "    print('Elapsed time:',time2 - time1,'s')\n",
        "    print('ETA of completion:',(time2 - time1)*(epochs - epoch - 1)/60,'minutes')\n",
        "\n",
        "  # save model\n",
        "  torch.save({\n",
        "      'epoch': epoch,\n",
        "      'model_state_dict': unet_model.state_dict(),\n",
        "      'optimizer_state_dict': optimizer.state_dict(),\n",
        "      'loss': unet_model.loss\n",
        "      }, os.path.join(output_dir, 'unet_cpc_both.pth'))\n",
        "  \n",
        "  ## Plotting epoch-wise train/val loss curves\n",
        "  plt.plot(train_losses, '-o', label = 'train_loss', color = 'blue')\n",
        "  plt.plot(val_losses, '-*', label = 'val_loss', color = 'red')\n",
        "  plt.xlabel('Epoch Number')\n",
        "  plt.title('Train and Validation Loss At Last Epoch')\n",
        "  plt.legend()\n",
        "  fig = plt.gcf()\n",
        "  plt.show()\n",
        "  fig.savefig(os.path.join(output_dir, \"train_val_loss\"))\n",
        "  \n",
        "  return unet_model, cpc_images_encoder_model, cpc_kinematic_encoder_model"
      ]
    },
    {
      "cell_type": "markdown",
      "metadata": {
        "id": "pMJwhNU98PP7"
      },
      "source": [
        "## Start Training"
      ]
    },
    {
      "cell_type": "code",
      "execution_count": 24,
      "metadata": {
        "colab": {
          "base_uri": "https://localhost:8080/",
          "height": 235
        },
        "id": "wmysUJJU8Q5L",
        "outputId": "af4f67dd-21ba-4fba-8563-053942fe7ddb"
      },
      "outputs": [
        {
          "output_type": "error",
          "ename": "OSError",
          "evalue": "ignored",
          "traceback": [
            "\u001b[0;31m---------------------------------------------------------------------------\u001b[0m",
            "\u001b[0;31mOSError\u001b[0m                                   Traceback (most recent call last)",
            "\u001b[0;32m<ipython-input-24-d8e13bb9be8e>\u001b[0m in \u001b[0;36m<module>\u001b[0;34m()\u001b[0m\n\u001b[1;32m     12\u001b[0m \u001b[0;34m\u001b[0m\u001b[0m\n\u001b[1;32m     13\u001b[0m \u001b[0;31m# create output directory\u001b[0m\u001b[0;34m\u001b[0m\u001b[0;34m\u001b[0m\u001b[0;34m\u001b[0m\u001b[0m\n\u001b[0;32m---> 14\u001b[0;31m \u001b[0mos\u001b[0m\u001b[0;34m.\u001b[0m\u001b[0mmkdir\u001b[0m\u001b[0;34m(\u001b[0m\u001b[0moutput_dir\u001b[0m\u001b[0;34m)\u001b[0m\u001b[0;34m\u001b[0m\u001b[0;34m\u001b[0m\u001b[0m\n\u001b[0m\u001b[1;32m     15\u001b[0m \u001b[0;34m\u001b[0m\u001b[0m\n\u001b[1;32m     16\u001b[0m \u001b[0;31m# write hyperparameters to .txt file\u001b[0m\u001b[0;34m\u001b[0m\u001b[0;34m\u001b[0m\u001b[0;34m\u001b[0m\u001b[0m\n",
            "\u001b[0;31mOSError\u001b[0m: [Errno 107] Transport endpoint is not connected: '/content/gdrive/MyDrive/JHU/Courses/Deep Learning/final_project/runs/unet_cpc_both/1651813726_3196828'"
          ]
        }
      ],
      "source": [
        "# hyperparameters\n",
        "epochs=30 \n",
        "batch_size=5 \n",
        "output_dir=os.path.join('/content/gdrive/MyDrive/JHU/Courses/Deep Learning/final_project/runs/unet_cpc_both', \"{}\".format(time.time()).replace('.', '_')) # timestamp the run\n",
        "lr=5e-3 \n",
        "opt_step_size=100\n",
        "opt_gamma=0.1\n",
        "image_shape=(256, 320) \n",
        "verbose=1\n",
        "save_checkpoints=0\n",
        "apply_train_transforms=1\n",
        "\n",
        "# create output directory\n",
        "os.mkdir(output_dir)\n",
        "\n",
        "# write hyperparameters to .txt file\n",
        "with open(os.path.join(output_dir, \"config.txt\"), \"a\") as f:\n",
        "  f.write(\"dataset: {}\\n\".format(data_dir))\n",
        "  f.write(\"epochs: {}\\n\".format(epochs)) \n",
        "  f.write(\"batch_size: {}\\n\".format(batch_size))\n",
        "  f.write(\"output_dir: {}\\n\".format(output_dir))\n",
        "  f.write(\"lr: {}\\n\".format(lr))\n",
        "  f.write(\"opt_step_size: {}\\n\".format(opt_step_size))\n",
        "  f.write(\"opt_gamma: {}\\n\".format(opt_gamma))\n",
        "  f.write(\"image_shape: {}\\n\".format(image_shape)) \n",
        "  f.write(\"verbose: {}\\n\".format(verbose))\n",
        "  f.write(\"save_checkpoints: {}\\n\".format(save_checkpoints))\n",
        "  f.write(\"apply_train_transforms: {}\\n\".format(apply_train_transforms))\n",
        "\n",
        "# TODO return CPC kinematics model\n",
        "unet_model, cpc_images_encoder_model, cpc_kinematic_encoder_model = train(epochs=epochs, \n",
        "                                                                          batch_size=batch_size, \n",
        "                                                                          output_dir=output_dir, \n",
        "                                                                          unet_model=unet_model,\n",
        "                                                                          cpc_images_encoder_model=cpc_images_encoder_model,\n",
        "                                                                          cpc_kinematic_encoder_model=cpc_kinematic_encoder_model,\n",
        "                                                                          lr=lr,  \n",
        "                                                                          verbose=verbose,\n",
        "                                                                          save_checkpoints=save_checkpoints)"
      ]
    },
    {
      "cell_type": "markdown",
      "metadata": {
        "id": "EkFB62GK5xW-"
      },
      "source": [
        "## Evaluate Finetuned Modified UNet"
      ]
    },
    {
      "cell_type": "markdown",
      "metadata": {
        "id": "YB7C2Ade5xXG"
      },
      "source": [
        "### Inference/Visualize on Test Batch"
      ]
    },
    {
      "cell_type": "markdown",
      "metadata": {
        "id": "9iilqpnjFAjm"
      },
      "source": [
        "I think the model is not saved in our shared folder, so it calls an error \n",
        "at checkpoint = T.load(unet_path)"
      ]
    },
    {
      "cell_type": "code",
      "execution_count": null,
      "metadata": {
        "id": "mVqpEP-y5xXG"
      },
      "outputs": [],
      "source": [
        "# show results on occluded samples\n",
        "test_dataset = ImageDataset(data_dir, op='test', transform=False, occlusion=True)\n",
        "test_dataloader = DataLoader(test_dataset, batch_size=batch_size, shuffle=False, num_workers=4)\n",
        "\n",
        "# output_dir = \"/content/drive/MyDrive/JHU/Courses/Deep Learning/DL_Project/runs/unet_cpc_both/1651551918_8151484\"\n",
        "unet_path = os.path.join(output_dir, 'unet_cpc_both.pth')\n",
        "unet_model = Vanilla_UNet()\n",
        "checkpoint = T.load(unet_path)\n",
        "unet_model.load_state_dict(checkpoint['model_state_dict'])\n",
        "\n",
        "if gpu_boole:\n",
        "  unet_model = unet_model.cuda()\n",
        "\n",
        "unet_model.eval()\n",
        "for k, (img, mask, kin) in tqdm(enumerate(test_dataloader)):\n",
        "    print(len(test_dataloader))\n",
        "\n",
        "    if gpu_boole:\n",
        "      img = img.cuda()\n",
        "      mask = mask.cuda()\n",
        "      kin = kin.cuda()\n",
        "    out = unet_model.forward(img, kin)\n",
        "    print(img.shape, mask.shape, out.shape)\n",
        "\n",
        "    fig = plt.figure(figsize=(20, 6))\n",
        "    columns = 10\n",
        "    rows = 3\n",
        "\n",
        "    for i in range(rows):\n",
        "      for j in range(columns):\n",
        "        if i == 0:\n",
        "          image = torch.permute(img[0, :, j, :, :], (1, 2, 0)).cpu().numpy()\n",
        "          fig.add_subplot(rows, columns, i * columns + j + 1)\n",
        "          plt.imshow(image)\n",
        "        elif i == 1:\n",
        "          image = torch.argmax(mask[0], dim=0)[j].cpu().numpy()\n",
        "          gt = np.zeros((image.shape[0], image.shape[1], 3))\n",
        "          for idx in range(2):\n",
        "            filter_map = image == idx\n",
        "            gt[filter_map] = float(idx)\n",
        "          fig.add_subplot(rows, columns, i * columns + j + 1)\n",
        "          plt.imshow(gt)\n",
        "        else:\n",
        "          image = torch.argmax(out[0], dim=0)[j].cpu().numpy()\n",
        "          outt = np.zeros((image.shape[0], image.shape[1], 3))\n",
        "          for idx in range(2):\n",
        "            filter_map = image == idx\n",
        "            outt[filter_map] = float(idx)\n",
        "          fig.add_subplot(rows, columns, i * columns + j + 1)\n",
        "          plt.imshow(outt)\n",
        "          \n",
        "    plt.show()\n",
        "\n",
        "    if k == 0:\n",
        "      break"
      ]
    },
    {
      "cell_type": "markdown",
      "metadata": {
        "id": "kbgxAkpl5xXH"
      },
      "source": [
        "### Score on Test Set"
      ]
    },
    {
      "cell_type": "code",
      "execution_count": null,
      "metadata": {
        "id": "4nlzJgTY5xXH"
      },
      "outputs": [],
      "source": [
        "# Don't use occlusion when gathering performance metrics\n",
        "test_dataset = ImageDataset(data_dir, op='test', transform=False, occlusion=False)\n",
        "test_dataloader = DataLoader(test_dataset, batch_size=batch_size, shuffle=False, num_workers=4)\n",
        "\n",
        "iou_score = iou_score_dataset(unet_model, test_dataloader)\n",
        "\n",
        "with open(os.path.join(output_dir, \"iou_scores.txt\"), \"a\") as f:\n",
        "  for i in range(0, len(iou_score), 300):\n",
        "    med_score = np.median(iou_score[i:i + 300])\n",
        "    iqr_score = iqr(iou_score[i:i + 300])\n",
        "    print(\"Video {}:\".format(i+1))\n",
        "    print(med_score)\n",
        "    print(iqr_score)\n",
        "    f.write(\"{}\\n\".format(med_score))\n",
        "    f.write(\"{}\\n\".format(iqr_score))\n",
        "    \n",
        "\n",
        "  med_score_total = np.median(iou_score)\n",
        "  iqr_score_total = iqr(iou_score)\n",
        "  print(\"Overall:\")\n",
        "  print(med_score_total)\n",
        "  print(iqr_score_total)\n",
        "  f.write(\"{}\\n\".format(med_score_total))\n",
        "  f.write(\"{}\\n\".format(iqr_score_total))"
      ]
    }
  ],
  "metadata": {
    "accelerator": "GPU",
    "colab": {
      "collapsed_sections": [
        "Zpvkp_VFVdkd",
        "lf47ub5wVsL1",
        "TF2CiC1IV5gM",
        "hXAaUzjUWED3",
        "l71-YEteliLH",
        "UyO1GKlakGks",
        "9NPSbtJ_oFEB",
        "AXjRiy_utjIn",
        "lsWQZwUqu7ND",
        "vRYns1ngcV8n",
        "2yzo5T7JwECC",
        "A0obPQtT0Jez",
        "m5sOeaWc97Kx",
        "Yjz5ksTt-BIx",
        "pE1d_00ecuPB",
        "7IS1UfsX-FmS",
        "HGj3zPT90Awv",
        "7vol0gbN0jIf",
        "wfHUMi9o-WzP",
        "gIWW8S3yulFZ",
        "Nzinn9lqKPPF",
        "_HjFfHaSnmBW",
        "ll-O_HaXnwrG",
        "bHfVPP7Q11fb",
        "WFuIrF8s7Fuu",
        "pMJwhNU98PP7"
      ],
      "machine_shape": "hm",
      "name": "UNet_CPC.ipynb",
      "provenance": [],
      "include_colab_link": true
    },
    "kernelspec": {
      "display_name": "Python 3",
      "name": "python3"
    },
    "language_info": {
      "name": "python"
    }
  },
  "nbformat": 4,
  "nbformat_minor": 0
}