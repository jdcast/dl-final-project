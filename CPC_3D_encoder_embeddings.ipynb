{
  "nbformat": 4,
  "nbformat_minor": 0,
  "metadata": {
    "colab": {
      "name": "CPC_3D_encoder_embeddings.ipynb",
      "provenance": [],
      "authorship_tag": "ABX9TyNiOY2oq6pwjBWSUbpR2aBj",
      "include_colab_link": true
    },
    "kernelspec": {
      "name": "python3",
      "display_name": "Python 3"
    },
    "language_info": {
      "name": "python"
    }
  },
  "cells": [
    {
      "cell_type": "markdown",
      "metadata": {
        "id": "view-in-github",
        "colab_type": "text"
      },
      "source": [
        "<a href=\"https://colab.research.google.com/github/jdcast/dl-final-project/blob/main/CPC_3D_encoder_embeddings.ipynb\" target=\"_parent\"><img src=\"https://colab.research.google.com/assets/colab-badge.svg\" alt=\"Open In Colab\"/></a>"
      ]
    },
    {
      "cell_type": "markdown",
      "source": [
        "## Embeddings CPC image sequences encoder for consecutive sequences of frames\n",
        "- extract latent space representations of consecutive sequences of frames\n",
        "- useful for trying to group/cluster the embeddings of images sequences are clustered closely -> meaning that they may likely represent consecutive sequences of sequences of images\n",
        "- CPC images sequences model reference: https://colab.research.google.com/drive/1XeGnR55SgTahjv4aVRiIgKvlShN_uA99#scrollTo=F4-53HZ7mgOx&uniqifier=1"
      ],
      "metadata": {
        "id": "HYTGfTWiEIHf"
      }
    },
    {
      "cell_type": "markdown",
      "source": [
        "## Imports"
      ],
      "metadata": {
        "id": "Zpvkp_VFVdkd"
      }
    },
    {
      "cell_type": "code",
      "source": [
        "import os\n",
        "import pdb\n",
        "import time\n",
        "import random\n",
        "\n",
        "%matplotlib inline\n",
        "import torch as T\n",
        "import torch.utils.data\n",
        "import torch.nn as nn\n",
        "import torch.optim as optim\n",
        "import torch.nn.functional as F\n",
        "\n",
        "import numpy as np\n",
        "import matplotlib.pyplot as plt\n",
        "\n",
        "from PIL import Image\n",
        "from random import randrange\n",
        "from random import choice\n",
        "from random import uniform\n",
        "from torchsummary import summary\n",
        "from torchvision.models.inception import inception_v3\n",
        "from torchvision import datasets, transforms\n",
        "from torch.utils.data import Dataset, DataLoader\n",
        "import torch.nn.functional as functional\n",
        "import torchvision.transforms.functional as TF\n",
        "from scipy.stats import entropy\n",
        "from scipy.stats import iqr\n",
        "from tqdm import tqdm\n",
        "import copy\n",
        "\n",
        "from skimage import io\n",
        "\n",
        "import itertools\n",
        "# For loading .mat file\n",
        "import scipy.io\n",
        "\n",
        "torch.manual_seed(0); #you may want to make use of this in various cells for reproducability\n",
        "gpu_boole = torch.cuda.is_available()\n",
        "print(\"GPU Available: {}\".format(gpu_boole))"
      ],
      "metadata": {
        "colab": {
          "base_uri": "https://localhost:8080/"
        },
        "id": "CPbuP7--K8XR",
        "outputId": "38222782-037d-4572-9bac-0af50b778809"
      },
      "execution_count": 34,
      "outputs": [
        {
          "output_type": "stream",
          "name": "stdout",
          "text": [
            "GPU Available: False\n"
          ]
        }
      ]
    },
    {
      "cell_type": "markdown",
      "source": [
        "## Mount Google Drive"
      ],
      "metadata": {
        "id": "lf47ub5wVsL1"
      }
    },
    {
      "cell_type": "code",
      "source": [
        "try:\n",
        "    from google.colab import drive\n",
        "    drive.mount('/content/gdrive')\n",
        "except:\n",
        "    print(\"Mounting Failed.\")"
      ],
      "metadata": {
        "colab": {
          "base_uri": "https://localhost:8080/"
        },
        "id": "u_zTf9YjLD4M",
        "outputId": "ecaa6a00-648f-407c-cf3d-c982fb78e96f"
      },
      "execution_count": 35,
      "outputs": [
        {
          "output_type": "stream",
          "name": "stdout",
          "text": [
            "Drive already mounted at /content/gdrive; to attempt to forcibly remount, call drive.mount(\"/content/gdrive\", force_remount=True).\n"
          ]
        }
      ]
    },
    {
      "cell_type": "markdown",
      "source": [
        "# Dataset"
      ],
      "metadata": {
        "id": "Pq1Jue4hudg4"
      }
    },
    {
      "cell_type": "markdown",
      "source": [
        "## Data Directory"
      ],
      "metadata": {
        "id": "TF2CiC1IV5gM"
      }
    },
    {
      "cell_type": "code",
      "source": [
        "# Image.open('/content/gdrive/My Drive/Colab Notebooks/CPC/lena.jpeg')"
      ],
      "metadata": {
        "id": "nzr-nL1CLAj-"
      },
      "execution_count": 36,
      "outputs": []
    },
    {
      "cell_type": "code",
      "source": [
        "#address of data in google drive \n",
        "data_dir = '/content/gdrive/MyDrive/JHU/Courses/Deep Learning/final_project/Synthetic_MICCAI2020_dataset'"
      ],
      "metadata": {
        "id": "oVTaS-9hV7UC"
      },
      "execution_count": 37,
      "outputs": []
    },
    {
      "cell_type": "markdown",
      "source": [
        "## Display Sample of Data"
      ],
      "metadata": {
        "id": "hXAaUzjUWED3"
      }
    },
    {
      "cell_type": "code",
      "source": [
        "test_img_path = os.path.join(data_dir, \"Video_01/images/000.png\")\n",
        "test_img = io.imread(test_img_path)\n",
        "plt.imshow(test_img)\n",
        "print(test_img.shape) #original img dimension"
      ],
      "metadata": {
        "colab": {
          "base_uri": "https://localhost:8080/",
          "height": 0
        },
        "id": "LRLT4lZqLQOe",
        "outputId": "95be42c5-9a0f-495c-b685-3a3058387260"
      },
      "execution_count": 38,
      "outputs": [
        {
          "output_type": "stream",
          "name": "stdout",
          "text": [
            "(538, 701, 3)\n"
          ]
        },
        {
          "output_type": "display_data",
          "data": {
            "text/plain": [
              "<Figure size 432x288 with 1 Axes>"
            ],
            "image/png": "[encoded data removed]"
          },
          "metadata": {
            "needs_background": "light"
          }
        }
      ]
    },
    {
      "cell_type": "code",
      "source": [
        "mat = scipy.io.loadmat(os.path.join(data_dir, 'Video_01/kinematic.mat'))\n",
        "print(mat.keys())\n",
        "mat"
      ],
      "metadata": {
        "colab": {
          "base_uri": "https://localhost:8080/"
        },
        "id": "heVeSz3epXJD",
        "outputId": "540d74ed-ed35-4d62-ee14-7ed94a08db1f"
      },
      "execution_count": 39,
      "outputs": [
        {
          "output_type": "stream",
          "name": "stdout",
          "text": [
            "dict_keys(['__header__', '__version__', '__globals__', 'jaw_values1', 'jaw_values3', 'joint_values1', 'joint_values3', 'ecm_values'])\n"
          ]
        },
        {
          "output_type": "execute_result",
          "data": {
            "text/plain": [
              "{'__globals__': [],\n",
              " '__header__': b'MATLAB 5.0 MAT-file, Platform: GLNXA64, Created on: Sat Feb 29 11:59:49 2020',\n",
              " '__version__': '1.0',\n",
              " 'ecm_values': array([[-0.08814785, -0.08814785, -0.08814785, ..., -0.08814785,\n",
              "         -0.08814785, -0.08814785],\n",
              "        [-0.46083237, -0.46083237, -0.46083237, ..., -0.46083237,\n",
              "         -0.46083237, -0.46083237],\n",
              "        [ 0.17415773,  0.17415773,  0.17415773, ...,  0.17415773,\n",
              "          0.17415773,  0.17415773],\n",
              "        [ 0.60085643,  0.60085643,  0.60085643, ...,  0.60085643,\n",
              "          0.60085643,  0.60085643]]),\n",
              " 'jaw_values1': array([[-0.16308299, -0.1631538 , -0.16308299, ...,  0.0143751 ,\n",
              "          0.01472916,  0.01479998]]),\n",
              " 'jaw_values3': array([[-0.16824439, -0.16824439, -0.17102124, ...,  0.06876785,\n",
              "          0.07105467,  0.07350483]]),\n",
              " 'joint_values1': array([[ 0.48887216,  0.4939151 ,  0.4958149 , ...,  0.65067114,\n",
              "          0.65058619,  0.65053213],\n",
              "        [-0.26129094, -0.25934482, -0.25895868, ..., -0.18256541,\n",
              "         -0.18256541, -0.18256541],\n",
              "        [ 0.17790414,  0.17715488,  0.17696303, ...,  0.17448193,\n",
              "          0.17447934,  0.17447675],\n",
              "        [-1.85983082, -1.84578249, -1.84158896, ..., -0.58730396,\n",
              "         -0.58730396, -0.58730396],\n",
              "        [ 0.31254962,  0.31026922,  0.31080578, ...,  0.60605115,\n",
              "          0.60605115,  0.60605115],\n",
              "        [-0.02993588, -0.02871129, -0.0290521 , ...,  0.0601302 ,\n",
              "          0.06026796,  0.06019908]]),\n",
              " 'joint_values3': array([[-1.40329007, -1.4033364 , -1.4033364 , ..., -1.42844301,\n",
              "         -1.42844301, -1.42842756],\n",
              "        [-0.14589015, -0.14885568, -0.15023032, ..., -0.26781665,\n",
              "         -0.26770854, -0.26760814],\n",
              "        [ 0.13075418,  0.129734  ,  0.12925437, ...,  0.12726327,\n",
              "          0.12726327,  0.12726327],\n",
              "        [ 3.67146122,  3.67083215,  3.66957401, ...,  3.17093133,\n",
              "          3.1755445 ,  3.17596388],\n",
              "        [ 0.45581936,  0.46265119,  0.46811665, ...,  0.07091434,\n",
              "          0.0733738 ,  0.07474017],\n",
              "        [-0.60847679, -0.61282251, -0.61417543, ..., -0.88670175,\n",
              "         -0.8878088 , -0.88737109]])}"
            ]
          },
          "metadata": {},
          "execution_count": 39
        }
      ]
    },
    {
      "cell_type": "markdown",
      "source": [
        "## Dataloader Architecture\n",
        " - returns sequences of image sequences\n",
        " - return shape: (terms+predict_terms, c, frames, h, w)"
      ],
      "metadata": {
        "id": "l71-YEteliLH"
      }
    },
    {
      "cell_type": "markdown",
      "source": [
        "### Video dataloader"
      ],
      "metadata": {
        "id": "Ljter6HSrTvh"
      }
    },
    {
      "cell_type": "code",
      "execution_count": 40,
      "metadata": {
        "id": "_kN-xXH00mey"
      },
      "outputs": [],
      "source": [
        "class ImageDataset(Dataset):\n",
        "    \"\"\"\n",
        "    Image Dataset\n",
        "    \"\"\"\n",
        "\n",
        "    def __init__(self, data_dir, op, frame = 10, transform=False):\n",
        "        \"\"\"\n",
        "        Args:\n",
        "            input_dir: input data path to images and masks\n",
        "        \"\"\"\n",
        "        assert frame > 1, 'number of frames should be an integer greater than 1'\n",
        "\n",
        "        self.frame = frame\n",
        "        self.op = op # specify train or test \n",
        "        self.data_dir = data_dir\n",
        "        self.transform = transform\n",
        "        self.mask_num = 2 # Only 2 output class labels.\n",
        "        \n",
        "        try:\n",
        "          if self.op == 'train':\n",
        "              self.len = 300 * 8 // frame # Videos 1-8 with 300 frames each.\n",
        "          elif self.op == 'val':\n",
        "              self.len = 300 * 2 // frame # Videos 9-10.\n",
        "          elif self.op == 'test':\n",
        "              self.len = 300 * 4 // frame # Videos 11-14.\n",
        "        except ValueError:\n",
        "          print ('op should be train or test.')\n",
        "    \n",
        "    \n",
        "    def __len__(self):\n",
        "        \"\"\"\n",
        "          for training: using videos from 01-14 each with 300 pics (14 * 300 img in total)\n",
        "          for testing: using videos from 15-20 each with 300 pics (6 * 300 img in total)\n",
        "        \"\"\"\n",
        "        return self.len\n",
        "\n",
        "    def __getitem__(self, idx):\n",
        "        \"\"\"\n",
        "          returning corresponding img and mask from dataset folder \n",
        "        \"\"\"\n",
        "\n",
        "        video_id = (idx * self.frame) // 300 + 1 #returning the number part of video's name str (i.e. \"Video_01\"'s '01')\n",
        "\n",
        "        if self.op == 'train':\n",
        "            video_name = str(video_id).zfill(2) \n",
        "        elif self.op == 'val':\n",
        "            video_id = (idx * self.frame) // 300 + 9\n",
        "            video_name = str(video_id).zfill(2)\n",
        "        else:\n",
        "            video_id = (idx * self.frame) // 300 + 11\n",
        "            video_name = str(video_id).zfill(2)\n",
        "        \n",
        "        img_dir = os.path.join(self.data_dir, \"Video_\" + video_name, \"images\")\n",
        "        mask_dir = os.path.join(self.data_dir,\"Video_\" + video_name, \"ground_truth\")\n",
        "\n",
        "        frames = [(idx * self.frame + i) % 300 for i in range(self.frame)]\n",
        "        # start = np.random.randint(100)\n",
        "        # interval = np.random.randint(5, 10)\n",
        "        # print (start, interval)\n",
        "        # frames = [start for _ in range(self.frame)]\n",
        "\n",
        "        img_name = os.path.join(img_dir, str(frames[0]).zfill(3) + \".png\")\n",
        "        mask_name = os.path.join(mask_dir, str(frames[0]).zfill(3) + \".png\")\n",
        "        \n",
        "        img = Image.open(img_name)\n",
        "        mask = Image.open(mask_name)\n",
        "\n",
        "        img = TF.resize(img, (256, 320), interpolation=TF.InterpolationMode.NEAREST)\n",
        "        mask = TF.resize(mask, (256, 320), interpolation=TF.InterpolationMode.NEAREST)\n",
        "\n",
        "        # Apply data augmentations, if any.\n",
        "        if self.transform:\n",
        "            img, mask = self.augment(img, mask)\n",
        "        \n",
        "        mask = np.array(mask)\n",
        "\n",
        "        h, w, c  = mask.shape\n",
        "        mask_value = {0:0, 1:255}\n",
        "        \n",
        "        # Convert grey-scale label to one-hot encoding\n",
        "        new_mask = np.zeros((h, w, self.mask_num))\n",
        "        for idx in range(self.mask_num):\n",
        "            new_mask[:, :, idx] = mask[:, :, 0] == mask_value[idx]\n",
        "\n",
        "        # Transform to tensor\n",
        "        img = TF.to_tensor(img)\n",
        "        mask = TF.to_tensor(new_mask)\n",
        "\n",
        "        img = torch.unsqueeze(img, 1)\n",
        "        mask = torch.unsqueeze(mask, 1)\n",
        "        \n",
        "        # Concatenate images to videos\n",
        "        for i in range(1, self.frame):\n",
        "\n",
        "            img_name = os.path.join(img_dir, str(frames[i]).zfill(3) + \".png\")\n",
        "            mask_name = os.path.join(mask_dir, str(frames[i]).zfill(3) + \".png\")\n",
        "            \n",
        "            img_next = Image.open(img_name)\n",
        "            mask_next = Image.open(mask_name)\n",
        "\n",
        "            img_next = TF.resize(img_next, (256, 320), interpolation=TF.InterpolationMode.NEAREST)\n",
        "            mask_next = TF.resize(mask_next, (256, 320), interpolation=TF.InterpolationMode.NEAREST)\n",
        "            \n",
        "            # Apply data augmentations, if any.\n",
        "            if self.transform:\n",
        "                img_next, mask_next = self.augment(img_next, mask_next)\n",
        "            \n",
        "            mask_next = np.array(mask_next)\n",
        "            \n",
        "            # Convert grey-scale label to one-hot encoding\n",
        "            new_mask = np.zeros((h, w, self.mask_num))\n",
        "            for idx in range(self.mask_num):\n",
        "                new_mask[:, :, idx] = mask_next[:, :, 0] == mask_value[idx]\n",
        "\n",
        "            # Transform to tensor\n",
        "            img_next = TF.to_tensor(img_next)\n",
        "            mask_next = TF.to_tensor(new_mask)\n",
        "            \n",
        "            img_next = torch.unsqueeze(img_next, 1)\n",
        "            mask_next = torch.unsqueeze(mask_next, 1)\n",
        "            \n",
        "            img = torch.cat((img,img_next),dim=1)\n",
        "            mask = torch.cat((mask,mask_next),dim=1)\n",
        "\n",
        "        # Load kinematic info\n",
        "        kin_dir = os.path.join(self.data_dir, \"Video_\" + video_name)\n",
        "        kin_name = kin_dir + \"/kinematic.mat\"\n",
        "        kin_mat = scipy.io.loadmat(kin_name)\n",
        "        ecm_values = torch.Tensor(kin_mat['ecm_values'])\n",
        "        joint_values1 = torch.Tensor(kin_mat['joint_values1'])\n",
        "        jaw_values1 = torch.Tensor(kin_mat['jaw_values1'])\n",
        "        joint_values3 = torch.Tensor(kin_mat['joint_values3'])\n",
        "        jaw_values3 = torch.Tensor(kin_mat['jaw_values1'])\n",
        "\n",
        "        kin_all = torch.cat((ecm_values, joint_values1, jaw_values1, joint_values3, jaw_values3), 0)\n",
        "        # It has 1500 time frames of kinematic for each video, but for the comparison with the original paper,\n",
        "        # which says \"collect every 150 ms to avoid redundance\", i.e. reduce to the same frames/sec as the image data,\n",
        "        # we also reduce the amount of kinematic data by slicing it at the step = 5\n",
        "        kin_sampled = kin_all[:, 1:1500:5]\n",
        "        kin_framed = kin_sampled[:, frames]\n",
        "        kin = kin_framed\n",
        "\n",
        "        return img, mask, kin\n",
        "\n",
        "\n",
        "\n",
        "        # # Break sequence into multiple sequences\n",
        "        # kin_framed = T.split(kin_framed, split_size_or_sections=self.frames_per_term, dim=1)\n",
        "        # kin_frames = T.split(T.tensor(frames), split_size_or_sections=self.frames_per_term, dim=0)\n",
        "\n",
        "        # # combined return lists into concatenated tensors so that they can be used during training\n",
        "        # kin_framed_t = T.unsqueeze(kin_framed[0], 0)\n",
        "        # frames_t = T.unsqueeze(kin_frames[0], 0)\n",
        "        # for i in range(len(kin_framed)):\n",
        "        #   if i > 0:\n",
        "        #     kin_seq = T.unsqueeze(kin_framed[i], 0)\n",
        "        #     kin_t = T.cat((kin_t, kin_seq), dim=0)\n",
        "\n",
        "        #     frames_seq = T.unsqueeze(kin_frames[i], 0)\n",
        "        #     frames_t = T.cat((frames_t, frames_seq), dim=0)\n",
        "\n",
        "\n",
        "        # return kin\n",
        "\n",
        "        \n",
        "\n",
        "    def augment(self, img, mask):\n",
        "\n",
        "        \n",
        "        if np.random.random() > 0.5:\n",
        "\n",
        "            # # Random horizontal flipping\n",
        "            # if np.random.random() > 0.5:\n",
        "            #     img = TF.hflip(img)\n",
        "            #     mask = TF.hflip(mask)\n",
        "\n",
        "            # # Random vertical flipping\n",
        "            # if np.random.random() > 0.5:\n",
        "            #     img = TF.vflip(img)\n",
        "            #     mask = TF.vflip(mask)\n",
        "\n",
        "            # Random brightness change\n",
        "            if np.random.random() > 0.5:\n",
        "                img = TF.adjust_brightness(img, np.random.uniform(0.5, 2))\n",
        "\n",
        "            # Random contrast change\n",
        "            if np.random.random() > 0.75:\n",
        "                img = TF.adjust_contrast(img, np.random.uniform(0.5, 2))\n",
        "            \n",
        "            # Random hue change\n",
        "            if np.random.random() > 0.8:\n",
        "                img = TF.adjust_hue(img, np.random.uniform(-0.3, 0.3))\n",
        "\n",
        "            # # Random equalize\n",
        "            # if np.random.random() > 0.9:\n",
        "            #     img = TF.equalize(img)\n",
        "\n",
        "            # Random gaussian blur\n",
        "            if np.random.random() > 0.9:\n",
        "                img = TF.gaussian_blur(img, [3, 3])\n",
        "        \n",
        "        return img, mask"
      ]
    },
    {
      "cell_type": "markdown",
      "source": [
        "### Kinematic dataloader\n",
        "Based on adopted video dataloader: https://drive.google.com/file/d/1RbeqAOOB0seUhvRHV7LlHqXcY3ugHLGq/view?usp=sharing"
      ],
      "metadata": {
        "id": "M1ORpk31pgpw"
      }
    },
    {
      "cell_type": "markdown",
      "source": [
        "## Test Dataloaders"
      ],
      "metadata": {
        "id": "gHvaZJWIrVR5"
      }
    },
    {
      "cell_type": "markdown",
      "source": [
        "### Video dataloader test"
      ],
      "metadata": {
        "id": "BbvZAYAhp00b"
      }
    },
    {
      "cell_type": "code",
      "source": [
        "batch_size = 5\n",
        "\n",
        "train_dataset = ImageDataset(data_dir, op='train', transform=True)\n",
        "val_dataset = ImageDataset(data_dir, op='val', transform=False)\n",
        "test_dataset = ImageDataset(data_dir, op='test', transform=False)\n",
        "\n",
        "train_dataloader = DataLoader(train_dataset, batch_size=batch_size, shuffle=True, num_workers=4)\n",
        "val_dataloader = DataLoader(val_dataset, batch_size=batch_size, shuffle=False, num_workers=4)\n",
        "test_dataloader = DataLoader(test_dataset, batch_size=batch_size, shuffle=False, num_workers=4)\n",
        "\n",
        "img, mask, kin = next(iter(train_dataloader))\n",
        "print (img.shape, mask.shape, kin.shape)\n",
        "fig = plt.figure(figsize=(20, 4))\n",
        "columns = 10\n",
        "rows = 2\n",
        "\n",
        "for i in range(rows):\n",
        "  for j in range(columns):\n",
        "    if i == 0:\n",
        "      image = torch.permute(img[0, :, j, :, :], (1, 2, 0)).cpu().numpy()\n",
        "      fig.add_subplot(rows, columns, i * columns + j + 1)\n",
        "      plt.imshow(image)\n",
        "    else:\n",
        "      image = torch.argmax(mask[0], dim=0)[j].cpu().numpy()\n",
        "      fig.add_subplot(rows, columns, i * columns + j + 1)\n",
        "      plt.imshow(image)\n",
        "\n",
        "plt.show()"
      ],
      "metadata": {
        "colab": {
          "base_uri": "https://localhost:8080/",
          "height": 435
        },
        "id": "zPa2tc6irdrI",
        "outputId": "6e8aac1e-0081-4323-ddd5-57970610ed7e"
      },
      "execution_count": 24,
      "outputs": [
        {
          "output_type": "stream",
          "name": "stderr",
          "text": [
            "/usr/local/lib/python3.7/dist-packages/torch/utils/data/dataloader.py:490: UserWarning: This DataLoader will create 4 worker processes in total. Our suggested max number of worker in current system is 2, which is smaller than what this DataLoader is going to create. Please be aware that excessive worker creation might get DataLoader running slow or even freeze, lower the worker number to avoid potential slowness/freeze if necessary.\n",
            "  cpuset_checked))\n"
          ]
        },
        {
          "output_type": "error",
          "ename": "KeyboardInterrupt",
          "evalue": "ignored",
          "traceback": [
            "\u001b[0;31m---------------------------------------------------------------------------\u001b[0m",
            "\u001b[0;31mKeyboardInterrupt\u001b[0m                         Traceback (most recent call last)",
            "\u001b[0;32m<ipython-input-24-b2411f41bd96>\u001b[0m in \u001b[0;36m<module>\u001b[0;34m()\u001b[0m\n\u001b[1;32m      9\u001b[0m \u001b[0mtest_dataloader\u001b[0m \u001b[0;34m=\u001b[0m \u001b[0mDataLoader\u001b[0m\u001b[0;34m(\u001b[0m\u001b[0mtest_dataset\u001b[0m\u001b[0;34m,\u001b[0m \u001b[0mbatch_size\u001b[0m\u001b[0;34m=\u001b[0m\u001b[0mbatch_size\u001b[0m\u001b[0;34m,\u001b[0m \u001b[0mshuffle\u001b[0m\u001b[0;34m=\u001b[0m\u001b[0;32mFalse\u001b[0m\u001b[0;34m,\u001b[0m \u001b[0mnum_workers\u001b[0m\u001b[0;34m=\u001b[0m\u001b[0;36m4\u001b[0m\u001b[0;34m)\u001b[0m\u001b[0;34m\u001b[0m\u001b[0;34m\u001b[0m\u001b[0m\n\u001b[1;32m     10\u001b[0m \u001b[0;34m\u001b[0m\u001b[0m\n\u001b[0;32m---> 11\u001b[0;31m \u001b[0mimg\u001b[0m\u001b[0;34m,\u001b[0m \u001b[0mmask\u001b[0m\u001b[0;34m,\u001b[0m \u001b[0mkin\u001b[0m \u001b[0;34m=\u001b[0m \u001b[0mnext\u001b[0m\u001b[0;34m(\u001b[0m\u001b[0miter\u001b[0m\u001b[0;34m(\u001b[0m\u001b[0mtrain_dataloader\u001b[0m\u001b[0;34m)\u001b[0m\u001b[0;34m)\u001b[0m\u001b[0;34m\u001b[0m\u001b[0;34m\u001b[0m\u001b[0m\n\u001b[0m\u001b[1;32m     12\u001b[0m \u001b[0mprint\u001b[0m \u001b[0;34m(\u001b[0m\u001b[0mimg\u001b[0m\u001b[0;34m.\u001b[0m\u001b[0mshape\u001b[0m\u001b[0;34m,\u001b[0m \u001b[0mmask\u001b[0m\u001b[0;34m.\u001b[0m\u001b[0mshape\u001b[0m\u001b[0;34m,\u001b[0m \u001b[0mkin\u001b[0m\u001b[0;34m.\u001b[0m\u001b[0mshape\u001b[0m\u001b[0;34m)\u001b[0m\u001b[0;34m\u001b[0m\u001b[0;34m\u001b[0m\u001b[0m\n\u001b[1;32m     13\u001b[0m \u001b[0mfig\u001b[0m \u001b[0;34m=\u001b[0m \u001b[0mplt\u001b[0m\u001b[0;34m.\u001b[0m\u001b[0mfigure\u001b[0m\u001b[0;34m(\u001b[0m\u001b[0mfigsize\u001b[0m\u001b[0;34m=\u001b[0m\u001b[0;34m(\u001b[0m\u001b[0;36m20\u001b[0m\u001b[0;34m,\u001b[0m \u001b[0;36m4\u001b[0m\u001b[0;34m)\u001b[0m\u001b[0;34m)\u001b[0m\u001b[0;34m\u001b[0m\u001b[0;34m\u001b[0m\u001b[0m\n",
            "\u001b[0;32m/usr/local/lib/python3.7/dist-packages/torch/utils/data/dataloader.py\u001b[0m in \u001b[0;36m__next__\u001b[0;34m(self)\u001b[0m\n\u001b[1;32m    528\u001b[0m             \u001b[0;32mif\u001b[0m \u001b[0mself\u001b[0m\u001b[0;34m.\u001b[0m\u001b[0m_sampler_iter\u001b[0m \u001b[0;32mis\u001b[0m \u001b[0;32mNone\u001b[0m\u001b[0;34m:\u001b[0m\u001b[0;34m\u001b[0m\u001b[0;34m\u001b[0m\u001b[0m\n\u001b[1;32m    529\u001b[0m                 \u001b[0mself\u001b[0m\u001b[0;34m.\u001b[0m\u001b[0m_reset\u001b[0m\u001b[0;34m(\u001b[0m\u001b[0;34m)\u001b[0m\u001b[0;34m\u001b[0m\u001b[0;34m\u001b[0m\u001b[0m\n\u001b[0;32m--> 530\u001b[0;31m             \u001b[0mdata\u001b[0m \u001b[0;34m=\u001b[0m \u001b[0mself\u001b[0m\u001b[0;34m.\u001b[0m\u001b[0m_next_data\u001b[0m\u001b[0;34m(\u001b[0m\u001b[0;34m)\u001b[0m\u001b[0;34m\u001b[0m\u001b[0;34m\u001b[0m\u001b[0m\n\u001b[0m\u001b[1;32m    531\u001b[0m             \u001b[0mself\u001b[0m\u001b[0;34m.\u001b[0m\u001b[0m_num_yielded\u001b[0m \u001b[0;34m+=\u001b[0m \u001b[0;36m1\u001b[0m\u001b[0;34m\u001b[0m\u001b[0;34m\u001b[0m\u001b[0m\n\u001b[1;32m    532\u001b[0m             \u001b[0;32mif\u001b[0m \u001b[0mself\u001b[0m\u001b[0;34m.\u001b[0m\u001b[0m_dataset_kind\u001b[0m \u001b[0;34m==\u001b[0m \u001b[0m_DatasetKind\u001b[0m\u001b[0;34m.\u001b[0m\u001b[0mIterable\u001b[0m \u001b[0;32mand\u001b[0m\u001b[0;31m \u001b[0m\u001b[0;31m\\\u001b[0m\u001b[0;34m\u001b[0m\u001b[0;34m\u001b[0m\u001b[0m\n",
            "\u001b[0;32m/usr/local/lib/python3.7/dist-packages/torch/utils/data/dataloader.py\u001b[0m in \u001b[0;36m_next_data\u001b[0;34m(self)\u001b[0m\n\u001b[1;32m   1205\u001b[0m \u001b[0;34m\u001b[0m\u001b[0m\n\u001b[1;32m   1206\u001b[0m             \u001b[0;32massert\u001b[0m \u001b[0;32mnot\u001b[0m \u001b[0mself\u001b[0m\u001b[0;34m.\u001b[0m\u001b[0m_shutdown\u001b[0m \u001b[0;32mand\u001b[0m \u001b[0mself\u001b[0m\u001b[0;34m.\u001b[0m\u001b[0m_tasks_outstanding\u001b[0m \u001b[0;34m>\u001b[0m \u001b[0;36m0\u001b[0m\u001b[0;34m\u001b[0m\u001b[0;34m\u001b[0m\u001b[0m\n\u001b[0;32m-> 1207\u001b[0;31m             \u001b[0midx\u001b[0m\u001b[0;34m,\u001b[0m \u001b[0mdata\u001b[0m \u001b[0;34m=\u001b[0m \u001b[0mself\u001b[0m\u001b[0;34m.\u001b[0m\u001b[0m_get_data\u001b[0m\u001b[0;34m(\u001b[0m\u001b[0;34m)\u001b[0m\u001b[0;34m\u001b[0m\u001b[0;34m\u001b[0m\u001b[0m\n\u001b[0m\u001b[1;32m   1208\u001b[0m             \u001b[0mself\u001b[0m\u001b[0;34m.\u001b[0m\u001b[0m_tasks_outstanding\u001b[0m \u001b[0;34m-=\u001b[0m \u001b[0;36m1\u001b[0m\u001b[0;34m\u001b[0m\u001b[0;34m\u001b[0m\u001b[0m\n\u001b[1;32m   1209\u001b[0m             \u001b[0;32mif\u001b[0m \u001b[0mself\u001b[0m\u001b[0;34m.\u001b[0m\u001b[0m_dataset_kind\u001b[0m \u001b[0;34m==\u001b[0m \u001b[0m_DatasetKind\u001b[0m\u001b[0;34m.\u001b[0m\u001b[0mIterable\u001b[0m\u001b[0;34m:\u001b[0m\u001b[0;34m\u001b[0m\u001b[0;34m\u001b[0m\u001b[0m\n",
            "\u001b[0;32m/usr/local/lib/python3.7/dist-packages/torch/utils/data/dataloader.py\u001b[0m in \u001b[0;36m_get_data\u001b[0;34m(self)\u001b[0m\n\u001b[1;32m   1171\u001b[0m         \u001b[0;32melse\u001b[0m\u001b[0;34m:\u001b[0m\u001b[0;34m\u001b[0m\u001b[0;34m\u001b[0m\u001b[0m\n\u001b[1;32m   1172\u001b[0m             \u001b[0;32mwhile\u001b[0m \u001b[0;32mTrue\u001b[0m\u001b[0;34m:\u001b[0m\u001b[0;34m\u001b[0m\u001b[0;34m\u001b[0m\u001b[0m\n\u001b[0;32m-> 1173\u001b[0;31m                 \u001b[0msuccess\u001b[0m\u001b[0;34m,\u001b[0m \u001b[0mdata\u001b[0m \u001b[0;34m=\u001b[0m \u001b[0mself\u001b[0m\u001b[0;34m.\u001b[0m\u001b[0m_try_get_data\u001b[0m\u001b[0;34m(\u001b[0m\u001b[0;34m)\u001b[0m\u001b[0;34m\u001b[0m\u001b[0;34m\u001b[0m\u001b[0m\n\u001b[0m\u001b[1;32m   1174\u001b[0m                 \u001b[0;32mif\u001b[0m \u001b[0msuccess\u001b[0m\u001b[0;34m:\u001b[0m\u001b[0;34m\u001b[0m\u001b[0;34m\u001b[0m\u001b[0m\n\u001b[1;32m   1175\u001b[0m                     \u001b[0;32mreturn\u001b[0m \u001b[0mdata\u001b[0m\u001b[0;34m\u001b[0m\u001b[0;34m\u001b[0m\u001b[0m\n",
            "\u001b[0;32m/usr/local/lib/python3.7/dist-packages/torch/utils/data/dataloader.py\u001b[0m in \u001b[0;36m_try_get_data\u001b[0;34m(self, timeout)\u001b[0m\n\u001b[1;32m   1009\u001b[0m         \u001b[0;31m#   (bool: whether successfully get data, any: data if successful else None)\u001b[0m\u001b[0;34m\u001b[0m\u001b[0;34m\u001b[0m\u001b[0;34m\u001b[0m\u001b[0m\n\u001b[1;32m   1010\u001b[0m         \u001b[0;32mtry\u001b[0m\u001b[0;34m:\u001b[0m\u001b[0;34m\u001b[0m\u001b[0;34m\u001b[0m\u001b[0m\n\u001b[0;32m-> 1011\u001b[0;31m             \u001b[0mdata\u001b[0m \u001b[0;34m=\u001b[0m \u001b[0mself\u001b[0m\u001b[0;34m.\u001b[0m\u001b[0m_data_queue\u001b[0m\u001b[0;34m.\u001b[0m\u001b[0mget\u001b[0m\u001b[0;34m(\u001b[0m\u001b[0mtimeout\u001b[0m\u001b[0;34m=\u001b[0m\u001b[0mtimeout\u001b[0m\u001b[0;34m)\u001b[0m\u001b[0;34m\u001b[0m\u001b[0;34m\u001b[0m\u001b[0m\n\u001b[0m\u001b[1;32m   1012\u001b[0m             \u001b[0;32mreturn\u001b[0m \u001b[0;34m(\u001b[0m\u001b[0;32mTrue\u001b[0m\u001b[0;34m,\u001b[0m \u001b[0mdata\u001b[0m\u001b[0;34m)\u001b[0m\u001b[0;34m\u001b[0m\u001b[0;34m\u001b[0m\u001b[0m\n\u001b[1;32m   1013\u001b[0m         \u001b[0;32mexcept\u001b[0m \u001b[0mException\u001b[0m \u001b[0;32mas\u001b[0m \u001b[0me\u001b[0m\u001b[0;34m:\u001b[0m\u001b[0;34m\u001b[0m\u001b[0;34m\u001b[0m\u001b[0m\n",
            "\u001b[0;32m/usr/lib/python3.7/multiprocessing/queues.py\u001b[0m in \u001b[0;36mget\u001b[0;34m(self, block, timeout)\u001b[0m\n\u001b[1;32m    102\u001b[0m                 \u001b[0;32mif\u001b[0m \u001b[0mblock\u001b[0m\u001b[0;34m:\u001b[0m\u001b[0;34m\u001b[0m\u001b[0;34m\u001b[0m\u001b[0m\n\u001b[1;32m    103\u001b[0m                     \u001b[0mtimeout\u001b[0m \u001b[0;34m=\u001b[0m \u001b[0mdeadline\u001b[0m \u001b[0;34m-\u001b[0m \u001b[0mtime\u001b[0m\u001b[0;34m.\u001b[0m\u001b[0mmonotonic\u001b[0m\u001b[0;34m(\u001b[0m\u001b[0;34m)\u001b[0m\u001b[0;34m\u001b[0m\u001b[0;34m\u001b[0m\u001b[0m\n\u001b[0;32m--> 104\u001b[0;31m                     \u001b[0;32mif\u001b[0m \u001b[0;32mnot\u001b[0m \u001b[0mself\u001b[0m\u001b[0;34m.\u001b[0m\u001b[0m_poll\u001b[0m\u001b[0;34m(\u001b[0m\u001b[0mtimeout\u001b[0m\u001b[0;34m)\u001b[0m\u001b[0;34m:\u001b[0m\u001b[0;34m\u001b[0m\u001b[0;34m\u001b[0m\u001b[0m\n\u001b[0m\u001b[1;32m    105\u001b[0m                         \u001b[0;32mraise\u001b[0m \u001b[0mEmpty\u001b[0m\u001b[0;34m\u001b[0m\u001b[0;34m\u001b[0m\u001b[0m\n\u001b[1;32m    106\u001b[0m                 \u001b[0;32melif\u001b[0m \u001b[0;32mnot\u001b[0m \u001b[0mself\u001b[0m\u001b[0;34m.\u001b[0m\u001b[0m_poll\u001b[0m\u001b[0;34m(\u001b[0m\u001b[0;34m)\u001b[0m\u001b[0;34m:\u001b[0m\u001b[0;34m\u001b[0m\u001b[0;34m\u001b[0m\u001b[0m\n",
            "\u001b[0;32m/usr/lib/python3.7/multiprocessing/connection.py\u001b[0m in \u001b[0;36mpoll\u001b[0;34m(self, timeout)\u001b[0m\n\u001b[1;32m    255\u001b[0m         \u001b[0mself\u001b[0m\u001b[0;34m.\u001b[0m\u001b[0m_check_closed\u001b[0m\u001b[0;34m(\u001b[0m\u001b[0;34m)\u001b[0m\u001b[0;34m\u001b[0m\u001b[0;34m\u001b[0m\u001b[0m\n\u001b[1;32m    256\u001b[0m         \u001b[0mself\u001b[0m\u001b[0;34m.\u001b[0m\u001b[0m_check_readable\u001b[0m\u001b[0;34m(\u001b[0m\u001b[0;34m)\u001b[0m\u001b[0;34m\u001b[0m\u001b[0;34m\u001b[0m\u001b[0m\n\u001b[0;32m--> 257\u001b[0;31m         \u001b[0;32mreturn\u001b[0m \u001b[0mself\u001b[0m\u001b[0;34m.\u001b[0m\u001b[0m_poll\u001b[0m\u001b[0;34m(\u001b[0m\u001b[0mtimeout\u001b[0m\u001b[0;34m)\u001b[0m\u001b[0;34m\u001b[0m\u001b[0;34m\u001b[0m\u001b[0m\n\u001b[0m\u001b[1;32m    258\u001b[0m \u001b[0;34m\u001b[0m\u001b[0m\n\u001b[1;32m    259\u001b[0m     \u001b[0;32mdef\u001b[0m \u001b[0m__enter__\u001b[0m\u001b[0;34m(\u001b[0m\u001b[0mself\u001b[0m\u001b[0;34m)\u001b[0m\u001b[0;34m:\u001b[0m\u001b[0;34m\u001b[0m\u001b[0;34m\u001b[0m\u001b[0m\n",
            "\u001b[0;32m/usr/lib/python3.7/multiprocessing/connection.py\u001b[0m in \u001b[0;36m_poll\u001b[0;34m(self, timeout)\u001b[0m\n\u001b[1;32m    412\u001b[0m \u001b[0;34m\u001b[0m\u001b[0m\n\u001b[1;32m    413\u001b[0m     \u001b[0;32mdef\u001b[0m \u001b[0m_poll\u001b[0m\u001b[0;34m(\u001b[0m\u001b[0mself\u001b[0m\u001b[0;34m,\u001b[0m \u001b[0mtimeout\u001b[0m\u001b[0;34m)\u001b[0m\u001b[0;34m:\u001b[0m\u001b[0;34m\u001b[0m\u001b[0;34m\u001b[0m\u001b[0m\n\u001b[0;32m--> 414\u001b[0;31m         \u001b[0mr\u001b[0m \u001b[0;34m=\u001b[0m \u001b[0mwait\u001b[0m\u001b[0;34m(\u001b[0m\u001b[0;34m[\u001b[0m\u001b[0mself\u001b[0m\u001b[0;34m]\u001b[0m\u001b[0;34m,\u001b[0m \u001b[0mtimeout\u001b[0m\u001b[0;34m)\u001b[0m\u001b[0;34m\u001b[0m\u001b[0;34m\u001b[0m\u001b[0m\n\u001b[0m\u001b[1;32m    415\u001b[0m         \u001b[0;32mreturn\u001b[0m \u001b[0mbool\u001b[0m\u001b[0;34m(\u001b[0m\u001b[0mr\u001b[0m\u001b[0;34m)\u001b[0m\u001b[0;34m\u001b[0m\u001b[0;34m\u001b[0m\u001b[0m\n\u001b[1;32m    416\u001b[0m \u001b[0;34m\u001b[0m\u001b[0m\n",
            "\u001b[0;32m/usr/lib/python3.7/multiprocessing/connection.py\u001b[0m in \u001b[0;36mwait\u001b[0;34m(object_list, timeout)\u001b[0m\n\u001b[1;32m    919\u001b[0m \u001b[0;34m\u001b[0m\u001b[0m\n\u001b[1;32m    920\u001b[0m             \u001b[0;32mwhile\u001b[0m \u001b[0;32mTrue\u001b[0m\u001b[0;34m:\u001b[0m\u001b[0;34m\u001b[0m\u001b[0;34m\u001b[0m\u001b[0m\n\u001b[0;32m--> 921\u001b[0;31m                 \u001b[0mready\u001b[0m \u001b[0;34m=\u001b[0m \u001b[0mselector\u001b[0m\u001b[0;34m.\u001b[0m\u001b[0mselect\u001b[0m\u001b[0;34m(\u001b[0m\u001b[0mtimeout\u001b[0m\u001b[0;34m)\u001b[0m\u001b[0;34m\u001b[0m\u001b[0;34m\u001b[0m\u001b[0m\n\u001b[0m\u001b[1;32m    922\u001b[0m                 \u001b[0;32mif\u001b[0m \u001b[0mready\u001b[0m\u001b[0;34m:\u001b[0m\u001b[0;34m\u001b[0m\u001b[0;34m\u001b[0m\u001b[0m\n\u001b[1;32m    923\u001b[0m                     \u001b[0;32mreturn\u001b[0m \u001b[0;34m[\u001b[0m\u001b[0mkey\u001b[0m\u001b[0;34m.\u001b[0m\u001b[0mfileobj\u001b[0m \u001b[0;32mfor\u001b[0m \u001b[0;34m(\u001b[0m\u001b[0mkey\u001b[0m\u001b[0;34m,\u001b[0m \u001b[0mevents\u001b[0m\u001b[0;34m)\u001b[0m \u001b[0;32min\u001b[0m \u001b[0mready\u001b[0m\u001b[0;34m]\u001b[0m\u001b[0;34m\u001b[0m\u001b[0;34m\u001b[0m\u001b[0m\n",
            "\u001b[0;32m/usr/lib/python3.7/selectors.py\u001b[0m in \u001b[0;36mselect\u001b[0;34m(self, timeout)\u001b[0m\n\u001b[1;32m    413\u001b[0m         \u001b[0mready\u001b[0m \u001b[0;34m=\u001b[0m \u001b[0;34m[\u001b[0m\u001b[0;34m]\u001b[0m\u001b[0;34m\u001b[0m\u001b[0;34m\u001b[0m\u001b[0m\n\u001b[1;32m    414\u001b[0m         \u001b[0;32mtry\u001b[0m\u001b[0;34m:\u001b[0m\u001b[0;34m\u001b[0m\u001b[0;34m\u001b[0m\u001b[0m\n\u001b[0;32m--> 415\u001b[0;31m             \u001b[0mfd_event_list\u001b[0m \u001b[0;34m=\u001b[0m \u001b[0mself\u001b[0m\u001b[0;34m.\u001b[0m\u001b[0m_selector\u001b[0m\u001b[0;34m.\u001b[0m\u001b[0mpoll\u001b[0m\u001b[0;34m(\u001b[0m\u001b[0mtimeout\u001b[0m\u001b[0;34m)\u001b[0m\u001b[0;34m\u001b[0m\u001b[0;34m\u001b[0m\u001b[0m\n\u001b[0m\u001b[1;32m    416\u001b[0m         \u001b[0;32mexcept\u001b[0m \u001b[0mInterruptedError\u001b[0m\u001b[0;34m:\u001b[0m\u001b[0;34m\u001b[0m\u001b[0;34m\u001b[0m\u001b[0m\n\u001b[1;32m    417\u001b[0m             \u001b[0;32mreturn\u001b[0m \u001b[0mready\u001b[0m\u001b[0;34m\u001b[0m\u001b[0;34m\u001b[0m\u001b[0m\n",
            "\u001b[0;31mKeyboardInterrupt\u001b[0m: "
          ]
        }
      ]
    },
    {
      "cell_type": "markdown",
      "source": [
        "# Encoder for CPC Image Sequences"
      ],
      "metadata": {
        "id": "AXjRiy_utjIn"
      }
    },
    {
      "cell_type": "markdown",
      "source": [
        "### Define Architecture\n",
        "- use encoder from 3D Vanilla UNet: https://colab.research.google.com/drive/1FtT3_qF5jcqHDazesrxkdaOtd2mvimdl#scrollTo=_kN-xXH00mey"
      ],
      "metadata": {
        "id": "lsWQZwUqu7ND"
      }
    },
    {
      "cell_type": "code",
      "source": [
        "# Encoder\n",
        "\n",
        "## Functions for adding the convolution layer\n",
        "def add_conv_stage(dim_in,\n",
        "                   dim_out,\n",
        "                   kernel_size=3,\n",
        "                   stride=1,\n",
        "                   padding='same',\n",
        "                   bias=True,\n",
        "                   useBN=True):\n",
        "    # Use batch normalization\n",
        "    if useBN:\n",
        "        return nn.Sequential(\n",
        "          nn.Conv3d(dim_in, dim_out, kernel_size=kernel_size, stride=stride, padding=padding, bias=bias),\n",
        "          nn.BatchNorm3d(dim_out),\n",
        "          nn.LeakyReLU(0.1),\n",
        "          nn.Conv3d(dim_out, dim_out, kernel_size=kernel_size, stride=stride, padding=padding, bias=bias),\n",
        "          nn.BatchNorm3d(dim_out),\n",
        "          nn.LeakyReLU(0.1)\n",
        "        )\n",
        "    # No batch normalization\n",
        "    else:\n",
        "        return nn.Sequential(\n",
        "          nn.Conv3d(dim_in, dim_out, kernel_size=kernel_size, stride=stride, padding=padding, bias=bias),\n",
        "          nn.ReLU(),\n",
        "          nn.Conv3d(dim_out, dim_out, kernel_size=kernel_size, stride=stride, padding=padding, bias=bias),\n",
        "          nn.ReLU()\n",
        "        )\n",
        "\n",
        "def last_layer(dim_in,\n",
        "               dim_out,\n",
        "               kernel_size=3,\n",
        "               stride=1,\n",
        "               padding='same',\n",
        "               bias=True,\n",
        "               useBN=True):\n",
        "    # Use batch normalization\n",
        "    if useBN:\n",
        "        return nn.Sequential(\n",
        "          nn.Conv3d(dim_in, dim_out, kernel_size=kernel_size, stride=stride, padding=padding, bias=bias),\n",
        "          nn.BatchNorm3d(dim_out),\n",
        "          nn.LeakyReLU(0.1),\n",
        "          nn.Conv3d(dim_out, dim_out, kernel_size=kernel_size, stride=stride, padding=padding, bias=bias)\n",
        "        )\n",
        "    # No batch normalization\n",
        "    else:\n",
        "        return nn.Sequential(\n",
        "          nn.Conv3d(dim_in, dim_out, kernel_size=kernel_size, stride=stride, padding=padding, bias=bias),\n",
        "          nn.ReLU(),\n",
        "          nn.Conv3d(dim_out, dim_out, kernel_size=kernel_size, stride=stride, padding=padding, bias=bias),\n",
        "        )\n",
        "\n",
        "class cpc_images_encoder(nn.Module):\n",
        "  def __init__(self, useBN=True):\n",
        "    super(cpc_images_encoder, self).__init__()\n",
        "\n",
        "    # Downgrade stages\n",
        "    if useBN:\n",
        "      self.conv1 = nn.Sequential(\n",
        "        nn.Conv3d(3, 32, kernel_size=3, stride=(1, 2, 2), padding=1, bias=True),\n",
        "        nn.BatchNorm3d(32),\n",
        "        nn.LeakyReLU(0.1))\n",
        "    else:\n",
        "      self.conv1 = nn.Sequential(\n",
        "        nn.Conv3d(3, 32, kernel_size=3, stride=(1, 2, 2), padding=1, bias=True),\n",
        "        nn.LeakyReLU(0.1))\n",
        "    \n",
        "    self.conv2 = add_conv_stage(32, 64, useBN=useBN)\n",
        "    self.conv3 = add_conv_stage(64, 128, useBN=useBN)\n",
        "    self.conv4 = add_conv_stage(128, 256, useBN=useBN)\n",
        "    self.last_layer = last_layer(256, 512, useBN=useBN)\n",
        "    \n",
        "    # Maxpool\n",
        "    self.max_pool122 = nn.MaxPool3d(2, stride=(1, 2, 2))\n",
        "    self.max_pool2 = nn.MaxPool3d(2)\n",
        "\n",
        "    # weight initialization\n",
        "    for m in self.modules():\n",
        "      if isinstance(m, nn.Conv2d) or isinstance(m, nn.ConvTranspose2d):\n",
        "        if m.bias is not None:\n",
        "          m.bias.data.zero_()\n",
        "        torch.nn.init.kaiming_uniform_(m.weight.data)\n",
        "        \n",
        "  def forward(self, inputs):\n",
        "    \"\"\"\n",
        "    Forward pass\n",
        "    \"\"\"\n",
        "    conv1_out = self.conv1(inputs)\n",
        "    conv2_out = self.conv2(self.max_pool2(conv1_out))\n",
        "    conv3_out = self.conv3(self.max_pool122(conv2_out))\n",
        "    conv4_out = self.conv4(self.max_pool2(conv3_out))\n",
        "    out = self.last_layer(self.max_pool2(conv4_out))\n",
        "\n",
        "    return out"
      ],
      "metadata": {
        "id": "R0Ws05nktqJE"
      },
      "execution_count": 41,
      "outputs": []
    },
    {
      "cell_type": "markdown",
      "source": [
        "### Load Pretrained Model"
      ],
      "metadata": {
        "id": "V8ugkblDoHzM"
      }
    },
    {
      "cell_type": "code",
      "source": [
        "cpc_images_encoder_path = \"/content/gdrive/MyDrive/JHU/Courses/Deep Learning/DL_Project/runs/cpc_3d_encoder/1651693328_1302767/cpc_images_encoder.pth\"\n",
        "cpc_images_encoder_model = cpc_images_encoder()\n",
        "checkpoint = T.load(cpc_images_encoder_path)\n",
        "cpc_images_encoder_model.load_state_dict(checkpoint['model_state_dict'])\n",
        "\n",
        "if gpu_boole:\n",
        "  cpc_images_encoder_model = cpc_images_encoder_model.cuda()\n",
        "\n",
        "cpc_images_encoder_model.eval()"
      ],
      "metadata": {
        "colab": {
          "base_uri": "https://localhost:8080/"
        },
        "id": "MbVVAharoLWF",
        "outputId": "1f2b02f8-75df-4eec-fcdb-3cc15e50b069"
      },
      "execution_count": 42,
      "outputs": [
        {
          "output_type": "execute_result",
          "data": {
            "text/plain": [
              "cpc_images_encoder(\n",
              "  (conv1): Sequential(\n",
              "    (0): Conv3d(3, 32, kernel_size=(3, 3, 3), stride=(1, 2, 2), padding=(1, 1, 1))\n",
              "    (1): BatchNorm3d(32, eps=1e-05, momentum=0.1, affine=True, track_running_stats=True)\n",
              "    (2): LeakyReLU(negative_slope=0.1)\n",
              "  )\n",
              "  (conv2): Sequential(\n",
              "    (0): Conv3d(32, 64, kernel_size=(3, 3, 3), stride=(1, 1, 1), padding=same)\n",
              "    (1): BatchNorm3d(64, eps=1e-05, momentum=0.1, affine=True, track_running_stats=True)\n",
              "    (2): LeakyReLU(negative_slope=0.1)\n",
              "    (3): Conv3d(64, 64, kernel_size=(3, 3, 3), stride=(1, 1, 1), padding=same)\n",
              "    (4): BatchNorm3d(64, eps=1e-05, momentum=0.1, affine=True, track_running_stats=True)\n",
              "    (5): LeakyReLU(negative_slope=0.1)\n",
              "  )\n",
              "  (conv3): Sequential(\n",
              "    (0): Conv3d(64, 128, kernel_size=(3, 3, 3), stride=(1, 1, 1), padding=same)\n",
              "    (1): BatchNorm3d(128, eps=1e-05, momentum=0.1, affine=True, track_running_stats=True)\n",
              "    (2): LeakyReLU(negative_slope=0.1)\n",
              "    (3): Conv3d(128, 128, kernel_size=(3, 3, 3), stride=(1, 1, 1), padding=same)\n",
              "    (4): BatchNorm3d(128, eps=1e-05, momentum=0.1, affine=True, track_running_stats=True)\n",
              "    (5): LeakyReLU(negative_slope=0.1)\n",
              "  )\n",
              "  (conv4): Sequential(\n",
              "    (0): Conv3d(128, 256, kernel_size=(3, 3, 3), stride=(1, 1, 1), padding=same)\n",
              "    (1): BatchNorm3d(256, eps=1e-05, momentum=0.1, affine=True, track_running_stats=True)\n",
              "    (2): LeakyReLU(negative_slope=0.1)\n",
              "    (3): Conv3d(256, 256, kernel_size=(3, 3, 3), stride=(1, 1, 1), padding=same)\n",
              "    (4): BatchNorm3d(256, eps=1e-05, momentum=0.1, affine=True, track_running_stats=True)\n",
              "    (5): LeakyReLU(negative_slope=0.1)\n",
              "  )\n",
              "  (last_layer): Sequential(\n",
              "    (0): Conv3d(256, 512, kernel_size=(3, 3, 3), stride=(1, 1, 1), padding=same)\n",
              "    (1): BatchNorm3d(512, eps=1e-05, momentum=0.1, affine=True, track_running_stats=True)\n",
              "    (2): LeakyReLU(negative_slope=0.1)\n",
              "    (3): Conv3d(512, 512, kernel_size=(3, 3, 3), stride=(1, 1, 1), padding=same)\n",
              "  )\n",
              "  (max_pool122): MaxPool3d(kernel_size=2, stride=(1, 2, 2), padding=0, dilation=1, ceil_mode=False)\n",
              "  (max_pool2): MaxPool3d(kernel_size=2, stride=2, padding=0, dilation=1, ceil_mode=False)\n",
              ")"
            ]
          },
          "metadata": {},
          "execution_count": 42
        }
      ]
    },
    {
      "cell_type": "markdown",
      "source": [
        "### Freeze Model"
      ],
      "metadata": {
        "id": "vRYns1ngcV8n"
      }
    },
    {
      "cell_type": "code",
      "source": [
        "for child in cpc_images_encoder_model.children():\n",
        "  for param in child.parameters():\n",
        "    param.requires_grad = False"
      ],
      "metadata": {
        "id": "qXSGzCApcY1N"
      },
      "execution_count": 43,
      "outputs": []
    },
    {
      "cell_type": "markdown",
      "source": [
        "### Print Architecture"
      ],
      "metadata": {
        "id": "2yzo5T7JwECC"
      }
    },
    {
      "cell_type": "code",
      "source": [
        "# image_shape = (512, 672)\n",
        "image_shape = (256, 320)\n",
        "frames_per_term = 10\n",
        "\n",
        "summary(cpc_images_encoder_model, (3, frames_per_term, image_shape[0], image_shape[1])) # dataloader provides batches of shape: (batch_size, c, frames, h, w)"
      ],
      "metadata": {
        "colab": {
          "base_uri": "https://localhost:8080/"
        },
        "id": "02m7Z-GcwG4p",
        "outputId": "3c4a9130-f0bc-4e5e-b317-2ae03d004c4a"
      },
      "execution_count": 44,
      "outputs": [
        {
          "output_type": "stream",
          "name": "stdout",
          "text": [
            "----------------------------------------------------------------\n",
            "        Layer (type)               Output Shape         Param #\n",
            "================================================================\n",
            "            Conv3d-1     [-1, 32, 10, 128, 160]           2,624\n",
            "       BatchNorm3d-2     [-1, 32, 10, 128, 160]              64\n",
            "         LeakyReLU-3     [-1, 32, 10, 128, 160]               0\n",
            "         MaxPool3d-4        [-1, 32, 5, 64, 80]               0\n",
            "            Conv3d-5        [-1, 64, 5, 64, 80]          55,360\n",
            "       BatchNorm3d-6        [-1, 64, 5, 64, 80]             128\n",
            "         LeakyReLU-7        [-1, 64, 5, 64, 80]               0\n",
            "            Conv3d-8        [-1, 64, 5, 64, 80]         110,656\n",
            "       BatchNorm3d-9        [-1, 64, 5, 64, 80]             128\n",
            "        LeakyReLU-10        [-1, 64, 5, 64, 80]               0\n",
            "        MaxPool3d-11        [-1, 64, 4, 32, 40]               0\n",
            "           Conv3d-12       [-1, 128, 4, 32, 40]         221,312\n",
            "      BatchNorm3d-13       [-1, 128, 4, 32, 40]             256\n",
            "        LeakyReLU-14       [-1, 128, 4, 32, 40]               0\n",
            "           Conv3d-15       [-1, 128, 4, 32, 40]         442,496\n",
            "      BatchNorm3d-16       [-1, 128, 4, 32, 40]             256\n",
            "        LeakyReLU-17       [-1, 128, 4, 32, 40]               0\n",
            "        MaxPool3d-18       [-1, 128, 2, 16, 20]               0\n",
            "           Conv3d-19       [-1, 256, 2, 16, 20]         884,992\n",
            "      BatchNorm3d-20       [-1, 256, 2, 16, 20]             512\n",
            "        LeakyReLU-21       [-1, 256, 2, 16, 20]               0\n",
            "           Conv3d-22       [-1, 256, 2, 16, 20]       1,769,728\n",
            "      BatchNorm3d-23       [-1, 256, 2, 16, 20]             512\n",
            "        LeakyReLU-24       [-1, 256, 2, 16, 20]               0\n",
            "        MaxPool3d-25        [-1, 256, 1, 8, 10]               0\n",
            "           Conv3d-26        [-1, 512, 1, 8, 10]       3,539,456\n",
            "      BatchNorm3d-27        [-1, 512, 1, 8, 10]           1,024\n",
            "        LeakyReLU-28        [-1, 512, 1, 8, 10]               0\n",
            "           Conv3d-29        [-1, 512, 1, 8, 10]       7,078,400\n",
            "================================================================\n",
            "Total params: 14,107,904\n",
            "Trainable params: 0\n",
            "Non-trainable params: 14,107,904\n",
            "----------------------------------------------------------------\n",
            "Input size (MB): 9.38\n",
            "Forward/backward pass size (MB): 273.28\n",
            "Params size (MB): 53.82\n",
            "Estimated Total Size (MB): 336.47\n",
            "----------------------------------------------------------------\n"
          ]
        }
      ]
    },
    {
      "cell_type": "markdown",
      "source": [
        "# Gather Embeddings For Sequences of 10 Consecutive Frames Across entire Dataset "
      ],
      "metadata": {
        "id": "_HjFfHaSnmBW"
      }
    },
    {
      "cell_type": "markdown",
      "source": [
        "It's very weird that it only works for \"for i, data in enumerate(dataloader)\" "
      ],
      "metadata": {
        "id": "TF2XYMh2W0QM"
      }
    },
    {
      "cell_type": "code",
      "source": [
        "batch_size = 5\n",
        "output_dir = \"/content/gdrive/MyDrive/JHU/Courses/Deep Learning/DL_Project/CPC_3D_encoder_embeddings/10_frames/1651693328_1302767\"\n",
        "\n",
        "train_dataset = ImageDataset(data_dir, op='train', transform=False)\n",
        "val_dataset = ImageDataset(data_dir, op='val', transform=False)\n",
        "test_dataset = ImageDataset(data_dir, op='test', transform=False)\n",
        "\n",
        "train_dataloader = DataLoader(train_dataset, batch_size=batch_size, shuffle=False, num_workers=4)\n",
        "val_dataloader = DataLoader(val_dataset, batch_size=batch_size, shuffle=False, num_workers=4)\n",
        "test_dataloader = DataLoader(test_dataset, batch_size=batch_size, shuffle=False, num_workers=4)\n",
        "\n",
        "cpc_images_encoder_model.eval()\n",
        "\n",
        "# train embeddings\n",
        "train_embeddings = np.array([])\n",
        "for idx, (img, mask, kin) in enumerate(tqdm(train_dataloader)):\n",
        "    if gpu_boole:\n",
        "      img = img.cuda()\n",
        "    out = cpc_images_encoder_model.forward(img)\n",
        "    if idx == 0:\n",
        "      train_embeddings = out.cpu().detach().numpy()\n",
        "    else:\n",
        "      np.append(train_embeddings, out, axis=0)\n",
        "\n",
        "np.save(os.path.join(output_dir, 'train_embeddings.npy'), train_embeddings) \n",
        "\n",
        "# validation embeddings\n",
        "val_embeddings = np.array([])\n",
        "for idx, (img, mask, kin) in enumerate(tqdm(val_dataloader)):\n",
        "    if gpu_boole:\n",
        "      img = img.cuda()\n",
        "    out = cpc_images_encoder_model.forward(img)\n",
        "    if idx == 0:\n",
        "      val_embeddings = out.cpu().detach().numpy()\n",
        "    else:\n",
        "      np.append(val_embeddings, out, axis=0)\n",
        "\n",
        "np.save(os.path.join(output_dir, 'val_embeddings.npy'), val_embeddings) \n",
        "\n",
        "# test embeddings\n",
        "test_embeddings = np.array([])\n",
        "for idx, (img, mask, kin) in enumerate(tqdm(test_dataloader)):\n",
        "    if gpu_boole:\n",
        "      img = img.cuda()\n",
        "    out = cpc_images_encoder_model.forward(img)\n",
        "    if idx == 0:\n",
        "      test_embeddings = out.cpu().detach().numpy()\n",
        "    else:\n",
        "      np.append(test_embeddings, out, axis=0)\n",
        "\n",
        "np.save(os.path.join(output_dir, 'test_embeddings.npy'), test_embeddings) "
      ],
      "metadata": {
        "colab": {
          "base_uri": "https://localhost:8080/"
        },
        "id": "o1tJ5n7XW_uq",
        "outputId": "e86c3d3c-a6e4-4c28-afd9-1a0f7e4ef7cb"
      },
      "execution_count": 45,
      "outputs": [
        {
          "output_type": "stream",
          "name": "stderr",
          "text": [
            "/usr/local/lib/python3.7/dist-packages/torch/utils/data/dataloader.py:490: UserWarning: This DataLoader will create 4 worker processes in total. Our suggested max number of worker in current system is 2, which is smaller than what this DataLoader is going to create. Please be aware that excessive worker creation might get DataLoader running slow or even freeze, lower the worker number to avoid potential slowness/freeze if necessary.\n",
            "  cpuset_checked))\n",
            "100%|██████████| 48/48 [02:23<00:00,  2.98s/it]\n",
            "100%|██████████| 12/12 [00:36<00:00,  3.06s/it]\n",
            "100%|██████████| 24/24 [01:08<00:00,  2.86s/it]\n"
          ]
        }
      ]
    }
  ]
}